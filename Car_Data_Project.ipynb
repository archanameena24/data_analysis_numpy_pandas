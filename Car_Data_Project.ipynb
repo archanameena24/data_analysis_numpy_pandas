{
 "cells": [
  {
   "cell_type": "code",
   "execution_count": 3,
   "id": "a3748a46-be25-44be-bb93-e080f777331c",
   "metadata": {},
   "outputs": [],
   "source": [
    "import pandas as pd\n",
    "import numpy as np\n",
    "import seaborn as sns\n",
    "import os\n",
    "import matplotlib.pyplot as plt"
   ]
  },
  {
   "cell_type": "code",
   "execution_count": 12,
   "id": "3e8b5b13-1799-4e32-b7f9-9a97ac6389ac",
   "metadata": {},
   "outputs": [
    {
     "data": {
      "text/html": [
       "<div>\n",
       "<style scoped>\n",
       "    .dataframe tbody tr th:only-of-type {\n",
       "        vertical-align: middle;\n",
       "    }\n",
       "\n",
       "    .dataframe tbody tr th {\n",
       "        vertical-align: top;\n",
       "    }\n",
       "\n",
       "    .dataframe thead th {\n",
       "        text-align: right;\n",
       "    }\n",
       "</style>\n",
       "<table border=\"1\" class=\"dataframe\">\n",
       "  <thead>\n",
       "    <tr style=\"text-align: right;\">\n",
       "      <th></th>\n",
       "      <th>S.No.</th>\n",
       "      <th>Name</th>\n",
       "      <th>Location</th>\n",
       "      <th>Year</th>\n",
       "      <th>Kilometers_Driven</th>\n",
       "      <th>Fuel_Type</th>\n",
       "      <th>Transmission</th>\n",
       "      <th>Owner_Type</th>\n",
       "      <th>Mileage</th>\n",
       "      <th>KM</th>\n",
       "      <th>Power</th>\n",
       "      <th>MM</th>\n",
       "      <th>New_Price</th>\n",
       "      <th>Price</th>\n",
       "    </tr>\n",
       "  </thead>\n",
       "  <tbody>\n",
       "    <tr>\n",
       "      <th>0</th>\n",
       "      <td>0</td>\n",
       "      <td>Maruti Wagon R LXI CNG</td>\n",
       "      <td>Mumbai</td>\n",
       "      <td>2010</td>\n",
       "      <td>72000</td>\n",
       "      <td>CNG</td>\n",
       "      <td>Manual</td>\n",
       "      <td>First</td>\n",
       "      <td>26.60</td>\n",
       "      <td>km/kg</td>\n",
       "      <td>58.16</td>\n",
       "      <td>bhp</td>\n",
       "      <td>NaN</td>\n",
       "      <td>1.75</td>\n",
       "    </tr>\n",
       "    <tr>\n",
       "      <th>1</th>\n",
       "      <td>1</td>\n",
       "      <td>Hyundai Creta 1.6 CRDi SX Option</td>\n",
       "      <td>Pune</td>\n",
       "      <td>2015</td>\n",
       "      <td>41000</td>\n",
       "      <td>Diesel</td>\n",
       "      <td>Manual</td>\n",
       "      <td>First</td>\n",
       "      <td>19.67</td>\n",
       "      <td>kmpl</td>\n",
       "      <td>126.20</td>\n",
       "      <td>bhp</td>\n",
       "      <td>NaN</td>\n",
       "      <td>12.50</td>\n",
       "    </tr>\n",
       "    <tr>\n",
       "      <th>2</th>\n",
       "      <td>2</td>\n",
       "      <td>Honda Jazz V</td>\n",
       "      <td>Chennai</td>\n",
       "      <td>2011</td>\n",
       "      <td>46000</td>\n",
       "      <td>Petrol</td>\n",
       "      <td>Manual</td>\n",
       "      <td>First</td>\n",
       "      <td>18.20</td>\n",
       "      <td>kmpl</td>\n",
       "      <td>88.70</td>\n",
       "      <td>bhp</td>\n",
       "      <td>8.61 Lakh</td>\n",
       "      <td>4.50</td>\n",
       "    </tr>\n",
       "    <tr>\n",
       "      <th>3</th>\n",
       "      <td>3</td>\n",
       "      <td>Maruti Ertiga VDI</td>\n",
       "      <td>Chennai</td>\n",
       "      <td>2012</td>\n",
       "      <td>87000</td>\n",
       "      <td>Diesel</td>\n",
       "      <td>Manual</td>\n",
       "      <td>First</td>\n",
       "      <td>20.77</td>\n",
       "      <td>kmpl</td>\n",
       "      <td>88.76</td>\n",
       "      <td>bhp</td>\n",
       "      <td>NaN</td>\n",
       "      <td>6.00</td>\n",
       "    </tr>\n",
       "    <tr>\n",
       "      <th>4</th>\n",
       "      <td>4</td>\n",
       "      <td>Audi A4 New 2.0 TDI Multitronic</td>\n",
       "      <td>Coimbatore</td>\n",
       "      <td>2013</td>\n",
       "      <td>40670</td>\n",
       "      <td>Diesel</td>\n",
       "      <td>Automatic</td>\n",
       "      <td>Second</td>\n",
       "      <td>15.20</td>\n",
       "      <td>kmpl</td>\n",
       "      <td>140.80</td>\n",
       "      <td>bhp</td>\n",
       "      <td>NaN</td>\n",
       "      <td>17.74</td>\n",
       "    </tr>\n",
       "    <tr>\n",
       "      <th>...</th>\n",
       "      <td>...</td>\n",
       "      <td>...</td>\n",
       "      <td>...</td>\n",
       "      <td>...</td>\n",
       "      <td>...</td>\n",
       "      <td>...</td>\n",
       "      <td>...</td>\n",
       "      <td>...</td>\n",
       "      <td>...</td>\n",
       "      <td>...</td>\n",
       "      <td>...</td>\n",
       "      <td>...</td>\n",
       "      <td>...</td>\n",
       "      <td>...</td>\n",
       "    </tr>\n",
       "    <tr>\n",
       "      <th>7248</th>\n",
       "      <td>7248</td>\n",
       "      <td>Volkswagen Vento Diesel Trendline</td>\n",
       "      <td>Hyderabad</td>\n",
       "      <td>2011</td>\n",
       "      <td>89411</td>\n",
       "      <td>Diesel</td>\n",
       "      <td>Manual</td>\n",
       "      <td>First</td>\n",
       "      <td>20.54</td>\n",
       "      <td>kmpl</td>\n",
       "      <td>103.60</td>\n",
       "      <td>bhp</td>\n",
       "      <td>NaN</td>\n",
       "      <td>NaN</td>\n",
       "    </tr>\n",
       "    <tr>\n",
       "      <th>7249</th>\n",
       "      <td>7249</td>\n",
       "      <td>Volkswagen Polo GT TSI</td>\n",
       "      <td>Mumbai</td>\n",
       "      <td>2015</td>\n",
       "      <td>59000</td>\n",
       "      <td>Petrol</td>\n",
       "      <td>Automatic</td>\n",
       "      <td>First</td>\n",
       "      <td>17.21</td>\n",
       "      <td>kmpl</td>\n",
       "      <td>103.60</td>\n",
       "      <td>bhp</td>\n",
       "      <td>NaN</td>\n",
       "      <td>NaN</td>\n",
       "    </tr>\n",
       "    <tr>\n",
       "      <th>7250</th>\n",
       "      <td>7250</td>\n",
       "      <td>Nissan Micra Diesel XV</td>\n",
       "      <td>Kolkata</td>\n",
       "      <td>2012</td>\n",
       "      <td>28000</td>\n",
       "      <td>Diesel</td>\n",
       "      <td>Manual</td>\n",
       "      <td>First</td>\n",
       "      <td>23.08</td>\n",
       "      <td>kmpl</td>\n",
       "      <td>63.10</td>\n",
       "      <td>bhp</td>\n",
       "      <td>NaN</td>\n",
       "      <td>NaN</td>\n",
       "    </tr>\n",
       "    <tr>\n",
       "      <th>7251</th>\n",
       "      <td>7251</td>\n",
       "      <td>Volkswagen Polo GT TSI</td>\n",
       "      <td>Pune</td>\n",
       "      <td>2013</td>\n",
       "      <td>52262</td>\n",
       "      <td>Petrol</td>\n",
       "      <td>Automatic</td>\n",
       "      <td>Third</td>\n",
       "      <td>17.20</td>\n",
       "      <td>kmpl</td>\n",
       "      <td>103.60</td>\n",
       "      <td>bhp</td>\n",
       "      <td>NaN</td>\n",
       "      <td>NaN</td>\n",
       "    </tr>\n",
       "    <tr>\n",
       "      <th>7252</th>\n",
       "      <td>7252</td>\n",
       "      <td>Mercedes-Benz E-Class 2009-2013 E 220 CDI Avan...</td>\n",
       "      <td>Kochi</td>\n",
       "      <td>2014</td>\n",
       "      <td>72443</td>\n",
       "      <td>Diesel</td>\n",
       "      <td>Automatic</td>\n",
       "      <td>First</td>\n",
       "      <td>10.00</td>\n",
       "      <td>kmpl</td>\n",
       "      <td>170.00</td>\n",
       "      <td>bhp</td>\n",
       "      <td>NaN</td>\n",
       "      <td>NaN</td>\n",
       "    </tr>\n",
       "  </tbody>\n",
       "</table>\n",
       "<p>7253 rows × 14 columns</p>\n",
       "</div>"
      ],
      "text/plain": [
       "      S.No.                                               Name    Location  \\\n",
       "0         0                             Maruti Wagon R LXI CNG      Mumbai   \n",
       "1         1                   Hyundai Creta 1.6 CRDi SX Option        Pune   \n",
       "2         2                                       Honda Jazz V     Chennai   \n",
       "3         3                                  Maruti Ertiga VDI     Chennai   \n",
       "4         4                    Audi A4 New 2.0 TDI Multitronic  Coimbatore   \n",
       "...     ...                                                ...         ...   \n",
       "7248   7248                  Volkswagen Vento Diesel Trendline   Hyderabad   \n",
       "7249   7249                             Volkswagen Polo GT TSI      Mumbai   \n",
       "7250   7250                             Nissan Micra Diesel XV     Kolkata   \n",
       "7251   7251                             Volkswagen Polo GT TSI        Pune   \n",
       "7252   7252  Mercedes-Benz E-Class 2009-2013 E 220 CDI Avan...       Kochi   \n",
       "\n",
       "      Year  Kilometers_Driven Fuel_Type Transmission Owner_Type  Mileage  \\\n",
       "0     2010              72000       CNG       Manual      First    26.60   \n",
       "1     2015              41000    Diesel       Manual      First    19.67   \n",
       "2     2011              46000    Petrol       Manual      First    18.20   \n",
       "3     2012              87000    Diesel       Manual      First    20.77   \n",
       "4     2013              40670    Diesel    Automatic     Second    15.20   \n",
       "...    ...                ...       ...          ...        ...      ...   \n",
       "7248  2011              89411    Diesel       Manual      First    20.54   \n",
       "7249  2015              59000    Petrol    Automatic      First    17.21   \n",
       "7250  2012              28000    Diesel       Manual      First    23.08   \n",
       "7251  2013              52262    Petrol    Automatic      Third    17.20   \n",
       "7252  2014              72443    Diesel    Automatic      First    10.00   \n",
       "\n",
       "         KM   Power   MM  New_Price  Price  \n",
       "0     km/kg   58.16  bhp        NaN   1.75  \n",
       "1      kmpl  126.20  bhp        NaN  12.50  \n",
       "2      kmpl   88.70  bhp  8.61 Lakh   4.50  \n",
       "3      kmpl   88.76  bhp        NaN   6.00  \n",
       "4      kmpl  140.80  bhp        NaN  17.74  \n",
       "...     ...     ...  ...        ...    ...  \n",
       "7248   kmpl  103.60  bhp        NaN    NaN  \n",
       "7249   kmpl  103.60  bhp        NaN    NaN  \n",
       "7250   kmpl   63.10  bhp        NaN    NaN  \n",
       "7251   kmpl  103.60  bhp        NaN    NaN  \n",
       "7252   kmpl  170.00  bhp        NaN    NaN  \n",
       "\n",
       "[7253 rows x 14 columns]"
      ]
     },
     "execution_count": 12,
     "metadata": {},
     "output_type": "execute_result"
    }
   ],
   "source": [
    "df = pd.read_csv(r'/Users/suneelmeena/LearnBay/csv file/cars.csv')\n",
    "df"
   ]
  },
  {
   "cell_type": "code",
   "execution_count": 14,
   "id": "6e0a9054-4bb5-4d0c-b2eb-f547692a7379",
   "metadata": {},
   "outputs": [
    {
     "data": {
      "text/plain": [
       "(7253, 14)"
      ]
     },
     "execution_count": 14,
     "metadata": {},
     "output_type": "execute_result"
    }
   ],
   "source": [
    "df.shape"
   ]
  },
  {
   "cell_type": "markdown",
   "id": "5edbeb06-db72-4421-8f51-328637abb3e8",
   "metadata": {},
   "source": [
    "# Display the first 5 rows of the dataset.\n"
   ]
  },
  {
   "cell_type": "code",
   "execution_count": 8,
   "id": "58e45c9a-ba49-4e1d-af56-9a85e03a93b8",
   "metadata": {},
   "outputs": [
    {
     "data": {
      "text/html": [
       "<div>\n",
       "<style scoped>\n",
       "    .dataframe tbody tr th:only-of-type {\n",
       "        vertical-align: middle;\n",
       "    }\n",
       "\n",
       "    .dataframe tbody tr th {\n",
       "        vertical-align: top;\n",
       "    }\n",
       "\n",
       "    .dataframe thead th {\n",
       "        text-align: right;\n",
       "    }\n",
       "</style>\n",
       "<table border=\"1\" class=\"dataframe\">\n",
       "  <thead>\n",
       "    <tr style=\"text-align: right;\">\n",
       "      <th></th>\n",
       "      <th>S.No.</th>\n",
       "      <th>Name</th>\n",
       "      <th>Location</th>\n",
       "      <th>Year</th>\n",
       "      <th>Kilometers_Driven</th>\n",
       "      <th>Fuel_Type</th>\n",
       "      <th>Transmission</th>\n",
       "      <th>Owner_Type</th>\n",
       "      <th>Mileage</th>\n",
       "      <th>KM</th>\n",
       "      <th>Power</th>\n",
       "      <th>MM</th>\n",
       "      <th>New_Price</th>\n",
       "      <th>Price</th>\n",
       "    </tr>\n",
       "  </thead>\n",
       "  <tbody>\n",
       "    <tr>\n",
       "      <th>0</th>\n",
       "      <td>0</td>\n",
       "      <td>Maruti Wagon R LXI CNG</td>\n",
       "      <td>Mumbai</td>\n",
       "      <td>2010</td>\n",
       "      <td>72000</td>\n",
       "      <td>CNG</td>\n",
       "      <td>Manual</td>\n",
       "      <td>First</td>\n",
       "      <td>26.60</td>\n",
       "      <td>km/kg</td>\n",
       "      <td>58.16</td>\n",
       "      <td>bhp</td>\n",
       "      <td>NaN</td>\n",
       "      <td>1.75</td>\n",
       "    </tr>\n",
       "    <tr>\n",
       "      <th>1</th>\n",
       "      <td>1</td>\n",
       "      <td>Hyundai Creta 1.6 CRDi SX Option</td>\n",
       "      <td>Pune</td>\n",
       "      <td>2015</td>\n",
       "      <td>41000</td>\n",
       "      <td>Diesel</td>\n",
       "      <td>Manual</td>\n",
       "      <td>First</td>\n",
       "      <td>19.67</td>\n",
       "      <td>kmpl</td>\n",
       "      <td>126.20</td>\n",
       "      <td>bhp</td>\n",
       "      <td>NaN</td>\n",
       "      <td>12.50</td>\n",
       "    </tr>\n",
       "    <tr>\n",
       "      <th>2</th>\n",
       "      <td>2</td>\n",
       "      <td>Honda Jazz V</td>\n",
       "      <td>Chennai</td>\n",
       "      <td>2011</td>\n",
       "      <td>46000</td>\n",
       "      <td>Petrol</td>\n",
       "      <td>Manual</td>\n",
       "      <td>First</td>\n",
       "      <td>18.20</td>\n",
       "      <td>kmpl</td>\n",
       "      <td>88.70</td>\n",
       "      <td>bhp</td>\n",
       "      <td>8.61 Lakh</td>\n",
       "      <td>4.50</td>\n",
       "    </tr>\n",
       "    <tr>\n",
       "      <th>3</th>\n",
       "      <td>3</td>\n",
       "      <td>Maruti Ertiga VDI</td>\n",
       "      <td>Chennai</td>\n",
       "      <td>2012</td>\n",
       "      <td>87000</td>\n",
       "      <td>Diesel</td>\n",
       "      <td>Manual</td>\n",
       "      <td>First</td>\n",
       "      <td>20.77</td>\n",
       "      <td>kmpl</td>\n",
       "      <td>88.76</td>\n",
       "      <td>bhp</td>\n",
       "      <td>NaN</td>\n",
       "      <td>6.00</td>\n",
       "    </tr>\n",
       "    <tr>\n",
       "      <th>4</th>\n",
       "      <td>4</td>\n",
       "      <td>Audi A4 New 2.0 TDI Multitronic</td>\n",
       "      <td>Coimbatore</td>\n",
       "      <td>2013</td>\n",
       "      <td>40670</td>\n",
       "      <td>Diesel</td>\n",
       "      <td>Automatic</td>\n",
       "      <td>Second</td>\n",
       "      <td>15.20</td>\n",
       "      <td>kmpl</td>\n",
       "      <td>140.80</td>\n",
       "      <td>bhp</td>\n",
       "      <td>NaN</td>\n",
       "      <td>17.74</td>\n",
       "    </tr>\n",
       "  </tbody>\n",
       "</table>\n",
       "</div>"
      ],
      "text/plain": [
       "   S.No.                              Name    Location  Year  \\\n",
       "0      0            Maruti Wagon R LXI CNG      Mumbai  2010   \n",
       "1      1  Hyundai Creta 1.6 CRDi SX Option        Pune  2015   \n",
       "2      2                      Honda Jazz V     Chennai  2011   \n",
       "3      3                 Maruti Ertiga VDI     Chennai  2012   \n",
       "4      4   Audi A4 New 2.0 TDI Multitronic  Coimbatore  2013   \n",
       "\n",
       "   Kilometers_Driven Fuel_Type Transmission Owner_Type  Mileage     KM  \\\n",
       "0              72000       CNG       Manual      First    26.60  km/kg   \n",
       "1              41000    Diesel       Manual      First    19.67   kmpl   \n",
       "2              46000    Petrol       Manual      First    18.20   kmpl   \n",
       "3              87000    Diesel       Manual      First    20.77   kmpl   \n",
       "4              40670    Diesel    Automatic     Second    15.20   kmpl   \n",
       "\n",
       "    Power   MM  New_Price  Price  \n",
       "0   58.16  bhp        NaN   1.75  \n",
       "1  126.20  bhp        NaN  12.50  \n",
       "2   88.70  bhp  8.61 Lakh   4.50  \n",
       "3   88.76  bhp        NaN   6.00  \n",
       "4  140.80  bhp        NaN  17.74  "
      ]
     },
     "execution_count": 8,
     "metadata": {},
     "output_type": "execute_result"
    }
   ],
   "source": [
    "df.head()"
   ]
  },
  {
   "cell_type": "code",
   "execution_count": 10,
   "id": "588bbe08-7b69-41e2-a040-3454c499513f",
   "metadata": {},
   "outputs": [
    {
     "name": "stdout",
     "output_type": "stream",
     "text": [
      "<class 'pandas.core.frame.DataFrame'>\n",
      "RangeIndex: 7253 entries, 0 to 7252\n",
      "Data columns (total 14 columns):\n",
      " #   Column             Non-Null Count  Dtype  \n",
      "---  ------             --------------  -----  \n",
      " 0   S.No.              7253 non-null   int64  \n",
      " 1   Name               7253 non-null   object \n",
      " 2   Location           7253 non-null   object \n",
      " 3   Year               7253 non-null   int64  \n",
      " 4   Kilometers_Driven  7253 non-null   int64  \n",
      " 5   Fuel_Type          7253 non-null   object \n",
      " 6   Transmission       7253 non-null   object \n",
      " 7   Owner_Type         7253 non-null   object \n",
      " 8   Mileage            7251 non-null   float64\n",
      " 9   KM                 7251 non-null   object \n",
      " 10  Power              7078 non-null   float64\n",
      " 11  MM                 7207 non-null   object \n",
      " 12  New_Price          1006 non-null   object \n",
      " 13  Price              6019 non-null   float64\n",
      "dtypes: float64(3), int64(3), object(8)\n",
      "memory usage: 793.4+ KB\n"
     ]
    }
   ],
   "source": [
    "df.info()"
   ]
  },
  {
   "cell_type": "markdown",
   "id": "8255d40a-82e9-43f3-a2ff-f694398e48c5",
   "metadata": {},
   "source": [
    "# What is the data type of each column?\n"
   ]
  },
  {
   "cell_type": "code",
   "execution_count": 13,
   "id": "18a45f35-b369-4d12-9a1c-f75db1d2d68c",
   "metadata": {},
   "outputs": [
    {
     "data": {
      "text/plain": [
       "S.No.                  int64\n",
       "Name                  object\n",
       "Location              object\n",
       "Year                   int64\n",
       "Kilometers_Driven      int64\n",
       "Fuel_Type             object\n",
       "Transmission          object\n",
       "Owner_Type            object\n",
       "Mileage              float64\n",
       "KM                    object\n",
       "Power                float64\n",
       "MM                    object\n",
       "New_Price             object\n",
       "Price                float64\n",
       "dtype: object"
      ]
     },
     "execution_count": 13,
     "metadata": {},
     "output_type": "execute_result"
    }
   ],
   "source": [
    "df.dtypes"
   ]
  },
  {
   "cell_type": "code",
   "execution_count": 15,
   "id": "01db41d4-3d8e-4ef4-956f-da1f9a01e6f2",
   "metadata": {},
   "outputs": [
    {
     "data": {
      "text/plain": [
       "2"
      ]
     },
     "execution_count": 15,
     "metadata": {},
     "output_type": "execute_result"
    }
   ],
   "source": [
    "sum(pd.isnull(df['Mileage']))"
   ]
  },
  {
   "cell_type": "code",
   "execution_count": 17,
   "id": "f291f2ff-d38f-40aa-bed2-8bc9e003faba",
   "metadata": {},
   "outputs": [
    {
     "data": {
      "text/plain": [
       "0"
      ]
     },
     "execution_count": 17,
     "metadata": {},
     "output_type": "execute_result"
    }
   ],
   "source": [
    "sum(pd.isnull(df['Name']))"
   ]
  },
  {
   "cell_type": "markdown",
   "id": "2e2b4135-604b-4e0a-a4d4-55340b14043a",
   "metadata": {},
   "source": [
    "# Check the number of missing values in each column.\n"
   ]
  },
  {
   "cell_type": "code",
   "execution_count": 20,
   "id": "3987288e-f15e-4bae-a998-efe5ba029303",
   "metadata": {},
   "outputs": [
    {
     "data": {
      "text/plain": [
       "S.No.                   0\n",
       "Name                    0\n",
       "Location                0\n",
       "Year                    0\n",
       "Kilometers_Driven       0\n",
       "Fuel_Type               0\n",
       "Transmission            0\n",
       "Owner_Type              0\n",
       "Mileage                 2\n",
       "KM                      2\n",
       "Power                 175\n",
       "MM                     46\n",
       "New_Price            6247\n",
       "Price                1234\n",
       "dtype: int64"
      ]
     },
     "execution_count": 20,
     "metadata": {},
     "output_type": "execute_result"
    }
   ],
   "source": [
    "mis_val=df.isna().sum()\n",
    "mis_val"
   ]
  },
  {
   "cell_type": "markdown",
   "id": "30eb115b-295d-4a16-a4b8-03f69e5c112c",
   "metadata": {},
   "source": [
    "# How many unique car models are there?\n"
   ]
  },
  {
   "cell_type": "code",
   "execution_count": 30,
   "id": "af2acf5a-9afb-493d-b9fd-78e49ba59e7c",
   "metadata": {},
   "outputs": [
    {
     "data": {
      "text/plain": [
       "2041"
      ]
     },
     "execution_count": 30,
     "metadata": {},
     "output_type": "execute_result"
    }
   ],
   "source": [
    "df.Name.nunique()"
   ]
  },
  {
   "cell_type": "code",
   "execution_count": 34,
   "id": "8be54616-8877-4084-b3d4-920e3af71130",
   "metadata": {},
   "outputs": [
    {
     "data": {
      "text/plain": [
       "Index(['Mileage', 'KM', 'Power', 'MM', 'New_Price', 'Price'], dtype='object')"
      ]
     },
     "execution_count": 34,
     "metadata": {},
     "output_type": "execute_result"
    }
   ],
   "source": [
    "#Which columns have null values, and how would you handle them?\n",
    "df.columns[df.isna().any()]   # this will give which columns have null values"
   ]
  },
  {
   "cell_type": "code",
   "execution_count": 36,
   "id": "dc5b5420-d824-490c-81db-bfd6a8eab6c4",
   "metadata": {},
   "outputs": [
    {
     "data": {
      "text/plain": [
       "S.No.                   0\n",
       "Name                    0\n",
       "Location                0\n",
       "Year                    0\n",
       "Kilometers_Driven       0\n",
       "Fuel_Type               0\n",
       "Transmission            0\n",
       "Owner_Type              0\n",
       "Mileage                 2\n",
       "KM                      2\n",
       "Power                 175\n",
       "MM                     46\n",
       "New_Price            6247\n",
       "Price                1234\n",
       "dtype: int64"
      ]
     },
     "execution_count": 36,
     "metadata": {},
     "output_type": "execute_result"
    }
   ],
   "source": [
    "df.isna().sum()"
   ]
  },
  {
   "cell_type": "code",
   "execution_count": 38,
   "id": "eee9b5e8-5ff4-4872-b807-3cd40d682db6",
   "metadata": {},
   "outputs": [
    {
     "data": {
      "text/html": [
       "<div>\n",
       "<style scoped>\n",
       "    .dataframe tbody tr th:only-of-type {\n",
       "        vertical-align: middle;\n",
       "    }\n",
       "\n",
       "    .dataframe tbody tr th {\n",
       "        vertical-align: top;\n",
       "    }\n",
       "\n",
       "    .dataframe thead th {\n",
       "        text-align: right;\n",
       "    }\n",
       "</style>\n",
       "<table border=\"1\" class=\"dataframe\">\n",
       "  <thead>\n",
       "    <tr style=\"text-align: right;\">\n",
       "      <th></th>\n",
       "      <th>S.No.</th>\n",
       "      <th>Name</th>\n",
       "      <th>Location</th>\n",
       "      <th>Year</th>\n",
       "      <th>Kilometers_Driven</th>\n",
       "      <th>Fuel_Type</th>\n",
       "      <th>Transmission</th>\n",
       "      <th>Owner_Type</th>\n",
       "      <th>Mileage</th>\n",
       "      <th>KM</th>\n",
       "      <th>Power</th>\n",
       "      <th>MM</th>\n",
       "      <th>New_Price</th>\n",
       "      <th>Price</th>\n",
       "    </tr>\n",
       "  </thead>\n",
       "  <tbody>\n",
       "    <tr>\n",
       "      <th>2</th>\n",
       "      <td>2</td>\n",
       "      <td>Honda Jazz V</td>\n",
       "      <td>Chennai</td>\n",
       "      <td>2011</td>\n",
       "      <td>46000</td>\n",
       "      <td>Petrol</td>\n",
       "      <td>Manual</td>\n",
       "      <td>First</td>\n",
       "      <td>18.20</td>\n",
       "      <td>kmpl</td>\n",
       "      <td>88.70</td>\n",
       "      <td>bhp</td>\n",
       "      <td>8.61 Lakh</td>\n",
       "      <td>4.50</td>\n",
       "    </tr>\n",
       "    <tr>\n",
       "      <th>7</th>\n",
       "      <td>7</td>\n",
       "      <td>Toyota Innova Crysta 2.8 GX AT 8S</td>\n",
       "      <td>Mumbai</td>\n",
       "      <td>2016</td>\n",
       "      <td>36000</td>\n",
       "      <td>Diesel</td>\n",
       "      <td>Automatic</td>\n",
       "      <td>First</td>\n",
       "      <td>11.36</td>\n",
       "      <td>kmpl</td>\n",
       "      <td>171.50</td>\n",
       "      <td>bhp</td>\n",
       "      <td>21 Lakh</td>\n",
       "      <td>17.50</td>\n",
       "    </tr>\n",
       "    <tr>\n",
       "      <th>10</th>\n",
       "      <td>10</td>\n",
       "      <td>Maruti Ciaz Zeta</td>\n",
       "      <td>Kochi</td>\n",
       "      <td>2018</td>\n",
       "      <td>25692</td>\n",
       "      <td>Petrol</td>\n",
       "      <td>Manual</td>\n",
       "      <td>First</td>\n",
       "      <td>21.56</td>\n",
       "      <td>kmpl</td>\n",
       "      <td>103.25</td>\n",
       "      <td>bhp</td>\n",
       "      <td>10.65 Lakh</td>\n",
       "      <td>9.95</td>\n",
       "    </tr>\n",
       "    <tr>\n",
       "      <th>15</th>\n",
       "      <td>15</td>\n",
       "      <td>Mitsubishi Pajero Sport 4X4</td>\n",
       "      <td>Delhi</td>\n",
       "      <td>2014</td>\n",
       "      <td>110000</td>\n",
       "      <td>Diesel</td>\n",
       "      <td>Manual</td>\n",
       "      <td>First</td>\n",
       "      <td>13.50</td>\n",
       "      <td>kmpl</td>\n",
       "      <td>175.56</td>\n",
       "      <td>bhp</td>\n",
       "      <td>32.01 Lakh</td>\n",
       "      <td>15.00</td>\n",
       "    </tr>\n",
       "    <tr>\n",
       "      <th>20</th>\n",
       "      <td>20</td>\n",
       "      <td>BMW 3 Series 320d</td>\n",
       "      <td>Kochi</td>\n",
       "      <td>2014</td>\n",
       "      <td>32982</td>\n",
       "      <td>Diesel</td>\n",
       "      <td>Automatic</td>\n",
       "      <td>First</td>\n",
       "      <td>22.69</td>\n",
       "      <td>kmpl</td>\n",
       "      <td>190.00</td>\n",
       "      <td>bhp</td>\n",
       "      <td>47.87 Lakh</td>\n",
       "      <td>18.55</td>\n",
       "    </tr>\n",
       "    <tr>\n",
       "      <th>...</th>\n",
       "      <td>...</td>\n",
       "      <td>...</td>\n",
       "      <td>...</td>\n",
       "      <td>...</td>\n",
       "      <td>...</td>\n",
       "      <td>...</td>\n",
       "      <td>...</td>\n",
       "      <td>...</td>\n",
       "      <td>...</td>\n",
       "      <td>...</td>\n",
       "      <td>...</td>\n",
       "      <td>...</td>\n",
       "      <td>...</td>\n",
       "      <td>...</td>\n",
       "    </tr>\n",
       "    <tr>\n",
       "      <th>5999</th>\n",
       "      <td>5999</td>\n",
       "      <td>Tata Bolt Revotron XT</td>\n",
       "      <td>Chennai</td>\n",
       "      <td>2016</td>\n",
       "      <td>10000</td>\n",
       "      <td>Petrol</td>\n",
       "      <td>Manual</td>\n",
       "      <td>First</td>\n",
       "      <td>17.57</td>\n",
       "      <td>kmpl</td>\n",
       "      <td>88.70</td>\n",
       "      <td>bhp</td>\n",
       "      <td>7.77 Lakh</td>\n",
       "      <td>4.00</td>\n",
       "    </tr>\n",
       "    <tr>\n",
       "      <th>6002</th>\n",
       "      <td>6002</td>\n",
       "      <td>Volkswagen Vento 1.6 Highline</td>\n",
       "      <td>Mumbai</td>\n",
       "      <td>2011</td>\n",
       "      <td>38000</td>\n",
       "      <td>Petrol</td>\n",
       "      <td>Manual</td>\n",
       "      <td>First</td>\n",
       "      <td>16.09</td>\n",
       "      <td>kmpl</td>\n",
       "      <td>103.50</td>\n",
       "      <td>bhp</td>\n",
       "      <td>11.91 Lakh</td>\n",
       "      <td>3.25</td>\n",
       "    </tr>\n",
       "    <tr>\n",
       "      <th>6005</th>\n",
       "      <td>6005</td>\n",
       "      <td>Maruti Vitara Brezza VDi</td>\n",
       "      <td>Pune</td>\n",
       "      <td>2016</td>\n",
       "      <td>37208</td>\n",
       "      <td>Diesel</td>\n",
       "      <td>Manual</td>\n",
       "      <td>First</td>\n",
       "      <td>24.30</td>\n",
       "      <td>kmpl</td>\n",
       "      <td>88.50</td>\n",
       "      <td>bhp</td>\n",
       "      <td>9.93 Lakh</td>\n",
       "      <td>7.43</td>\n",
       "    </tr>\n",
       "    <tr>\n",
       "      <th>6010</th>\n",
       "      <td>6010</td>\n",
       "      <td>Honda Brio 1.2 VX MT</td>\n",
       "      <td>Delhi</td>\n",
       "      <td>2013</td>\n",
       "      <td>33746</td>\n",
       "      <td>Petrol</td>\n",
       "      <td>Manual</td>\n",
       "      <td>First</td>\n",
       "      <td>18.50</td>\n",
       "      <td>kmpl</td>\n",
       "      <td>86.80</td>\n",
       "      <td>bhp</td>\n",
       "      <td>6.63 Lakh</td>\n",
       "      <td>3.20</td>\n",
       "    </tr>\n",
       "    <tr>\n",
       "      <th>6014</th>\n",
       "      <td>6014</td>\n",
       "      <td>Maruti Swift VDI</td>\n",
       "      <td>Delhi</td>\n",
       "      <td>2014</td>\n",
       "      <td>27365</td>\n",
       "      <td>Diesel</td>\n",
       "      <td>Manual</td>\n",
       "      <td>First</td>\n",
       "      <td>28.40</td>\n",
       "      <td>kmpl</td>\n",
       "      <td>74.00</td>\n",
       "      <td>bhp</td>\n",
       "      <td>7.88 Lakh</td>\n",
       "      <td>4.75</td>\n",
       "    </tr>\n",
       "  </tbody>\n",
       "</table>\n",
       "<p>823 rows × 14 columns</p>\n",
       "</div>"
      ],
      "text/plain": [
       "      S.No.                               Name Location  Year  \\\n",
       "2         2                       Honda Jazz V  Chennai  2011   \n",
       "7         7  Toyota Innova Crysta 2.8 GX AT 8S   Mumbai  2016   \n",
       "10       10                   Maruti Ciaz Zeta    Kochi  2018   \n",
       "15       15        Mitsubishi Pajero Sport 4X4    Delhi  2014   \n",
       "20       20                  BMW 3 Series 320d    Kochi  2014   \n",
       "...     ...                                ...      ...   ...   \n",
       "5999   5999              Tata Bolt Revotron XT  Chennai  2016   \n",
       "6002   6002      Volkswagen Vento 1.6 Highline   Mumbai  2011   \n",
       "6005   6005           Maruti Vitara Brezza VDi     Pune  2016   \n",
       "6010   6010               Honda Brio 1.2 VX MT    Delhi  2013   \n",
       "6014   6014                   Maruti Swift VDI    Delhi  2014   \n",
       "\n",
       "      Kilometers_Driven Fuel_Type Transmission Owner_Type  Mileage    KM  \\\n",
       "2                 46000    Petrol       Manual      First    18.20  kmpl   \n",
       "7                 36000    Diesel    Automatic      First    11.36  kmpl   \n",
       "10                25692    Petrol       Manual      First    21.56  kmpl   \n",
       "15               110000    Diesel       Manual      First    13.50  kmpl   \n",
       "20                32982    Diesel    Automatic      First    22.69  kmpl   \n",
       "...                 ...       ...          ...        ...      ...   ...   \n",
       "5999              10000    Petrol       Manual      First    17.57  kmpl   \n",
       "6002              38000    Petrol       Manual      First    16.09  kmpl   \n",
       "6005              37208    Diesel       Manual      First    24.30  kmpl   \n",
       "6010              33746    Petrol       Manual      First    18.50  kmpl   \n",
       "6014              27365    Diesel       Manual      First    28.40  kmpl   \n",
       "\n",
       "       Power   MM   New_Price  Price  \n",
       "2      88.70  bhp   8.61 Lakh   4.50  \n",
       "7     171.50  bhp     21 Lakh  17.50  \n",
       "10    103.25  bhp  10.65 Lakh   9.95  \n",
       "15    175.56  bhp  32.01 Lakh  15.00  \n",
       "20    190.00  bhp  47.87 Lakh  18.55  \n",
       "...      ...  ...         ...    ...  \n",
       "5999   88.70  bhp   7.77 Lakh   4.00  \n",
       "6002  103.50  bhp  11.91 Lakh   3.25  \n",
       "6005   88.50  bhp   9.93 Lakh   7.43  \n",
       "6010   86.80  bhp   6.63 Lakh   3.20  \n",
       "6014   74.00  bhp   7.88 Lakh   4.75  \n",
       "\n",
       "[823 rows x 14 columns]"
      ]
     },
     "execution_count": 38,
     "metadata": {},
     "output_type": "execute_result"
    }
   ],
   "source": [
    "df.dropna()     #inorder to handle, with dropna function we can delete all rows in which single nan present"
   ]
  },
  {
   "cell_type": "code",
   "execution_count": 40,
   "id": "43e08d71-bb25-432b-b774-65476bb1bf3c",
   "metadata": {},
   "outputs": [],
   "source": [
    "# or using fillna function we can fill nan value with mean as it is numerical data\n",
    "df.fillna({\"Mileage\": df.Mileage.mean()},inplace=True)"
   ]
  },
  {
   "cell_type": "code",
   "execution_count": 42,
   "id": "9db45b43-7ea1-4451-8e52-e167d4ba779e",
   "metadata": {},
   "outputs": [
    {
     "data": {
      "text/plain": [
       "S.No.                   0\n",
       "Name                    0\n",
       "Location                0\n",
       "Year                    0\n",
       "Kilometers_Driven       0\n",
       "Fuel_Type               0\n",
       "Transmission            0\n",
       "Owner_Type              0\n",
       "Mileage                 0\n",
       "KM                      2\n",
       "Power                 175\n",
       "MM                     46\n",
       "New_Price            6247\n",
       "Price                1234\n",
       "dtype: int64"
      ]
     },
     "execution_count": 42,
     "metadata": {},
     "output_type": "execute_result"
    }
   ],
   "source": [
    "df.isna().sum()     # to check missing values are now gone from mileage column"
   ]
  },
  {
   "cell_type": "code",
   "execution_count": 44,
   "id": "9a721fb0-253d-400c-a794-34e42c96ecd2",
   "metadata": {},
   "outputs": [],
   "source": [
    "df.fillna({\"KM\":\"kmpl\"},inplace=True)   # here we are filling nan value with \"kmpl\" Text value only as it is same for all rows\n",
    "# like this we can also handle the MM column"
   ]
  },
  {
   "cell_type": "code",
   "execution_count": 54,
   "id": "bf6b8884-853b-472a-bea7-c4397d4f280f",
   "metadata": {},
   "outputs": [],
   "source": [
    "# Drop the 'MM' column\n",
    "df.drop(columns=['MM'], inplace=True)"
   ]
  },
  {
   "cell_type": "code",
   "execution_count": 56,
   "id": "d17fb082-1748-4a6b-a705-9e8a09d3b84d",
   "metadata": {},
   "outputs": [
    {
     "data": {
      "text/plain": [
       "S.No.                   0\n",
       "Name                    0\n",
       "Location                0\n",
       "Year                    0\n",
       "Kilometers_Driven       0\n",
       "Fuel_Type               0\n",
       "Transmission            0\n",
       "Owner_Type              0\n",
       "Mileage                 0\n",
       "KM                      0\n",
       "Power                   0\n",
       "New_Price            6247\n",
       "Price                1234\n",
       "dtype: int64"
      ]
     },
     "execution_count": 56,
     "metadata": {},
     "output_type": "execute_result"
    }
   ],
   "source": [
    "df.isna().sum() "
   ]
  },
  {
   "cell_type": "code",
   "execution_count": 58,
   "id": "e6afd5ca-42a6-4ea3-8ec8-6e17d6f4de6d",
   "metadata": {},
   "outputs": [
    {
     "data": {
      "text/plain": [
       "S.No.                   0\n",
       "Name                    0\n",
       "Location                0\n",
       "Year                    0\n",
       "Kilometers_Driven       0\n",
       "Fuel_Type               0\n",
       "Transmission            0\n",
       "Owner_Type              0\n",
       "Mileage                 0\n",
       "KM                      0\n",
       "Power                   0\n",
       "New_Price            6247\n",
       "Price                1234\n",
       "dtype: int64"
      ]
     },
     "execution_count": 58,
     "metadata": {},
     "output_type": "execute_result"
    }
   ],
   "source": [
    "df.fillna({\"Power\":df.Power.mean()},inplace=True)\n",
    "df.isna().sum() "
   ]
  },
  {
   "cell_type": "code",
   "execution_count": 60,
   "id": "4fc5fedc-8ee7-4042-950d-58a0eeee045e",
   "metadata": {},
   "outputs": [],
   "source": [
    "# here as we can see in New_Price and Price both have such data we cannot do ffill or bbfill and\n",
    "# even any mean, median,mode operation value hence it is good to use dropna() to delete all rows"
   ]
  },
  {
   "cell_type": "code",
   "execution_count": 52,
   "id": "4674476a-c564-403b-b0b5-446b520d3171",
   "metadata": {},
   "outputs": [
    {
     "name": "stdout",
     "output_type": "stream",
     "text": [
      "Location\n",
      "Mumbai        949\n",
      "Hyderabad     876\n",
      "Coimbatore    772\n",
      "Kochi         772\n",
      "Pune          765\n",
      "Name: count, dtype: int64\n"
     ]
    }
   ],
   "source": [
    "# List the top 5 locations with the most cars listed.\n",
    "top_locations = df['Location'].value_counts().head()\n",
    "print(top_locations)"
   ]
  },
  {
   "cell_type": "code",
   "execution_count": 64,
   "id": "51f32fde-60ca-4bbf-8fb4-ebee3d8cb12c",
   "metadata": {},
   "outputs": [
    {
     "name": "stdout",
     "output_type": "stream",
     "text": [
      "Location\n",
      "Mumbai        949\n",
      "Hyderabad     876\n",
      "Coimbatore    772\n",
      "Kochi         772\n",
      "Pune          765\n",
      "Name: count, dtype: int64\n"
     ]
    }
   ],
   "source": [
    "# we can do this also\n",
    "print(df['Location'].value_counts().nlargest(5))"
   ]
  },
  {
   "cell_type": "code",
   "execution_count": 293,
   "id": "e9e2985e-a683-4bbb-a76e-d275e4f5968b",
   "metadata": {},
   "outputs": [
    {
     "data": {
      "text/plain": [
       "dtype('O')"
      ]
     },
     "execution_count": 293,
     "metadata": {},
     "output_type": "execute_result"
    }
   ],
   "source": [
    "# What is the range (min-max) of car prices?\n",
    "df.New_Price.dtype  # to check the datatype of new_price"
   ]
  },
  {
   "cell_type": "code",
   "execution_count": 317,
   "id": "f2f180bb-dd81-4f70-84f0-16216f367499",
   "metadata": {},
   "outputs": [
    {
     "data": {
      "text/plain": [
       "array([nan, '8.61 Lakh', '21 Lakh', '10.65 Lakh', '32.01 Lakh',\n",
       "       '47.87 Lakh', '10.57 Lakh', '12.33 Lakh', '11.12 Lakh',\n",
       "       '23.64 Lakh', '18.64 Lakh', '19.34 Lakh', '49.14 Lakh',\n",
       "       '11.81 Lakh', '16.65 Lakh', '6.67 Lakh', '6.45 Lakh', '6.41 Lakh',\n",
       "       '27 Lakh', '5.13 Lakh', '54.43 Lakh', '9.51 Lakh', '9.96 Lakh',\n",
       "       '14.44 Lakh', '4.53 Lakh', '95.04 Lakh', '13.49 Lakh', '1.28 Cr',\n",
       "       '60.88 Lakh', '7.39 Lakh', '69.47 Lakh', '8.78 Lakh', '12.74 Lakh',\n",
       "       '10.52 Lakh', '11.98 Lakh', '8.54 Lakh', '33.58 Lakh', '9.12 Lakh',\n",
       "       '5.29 Lakh', '44.28 Lakh', '20.74 Lakh', '11.74 Lakh',\n",
       "       '25.52 Lakh', '14.07 Lakh', '95.13 Lakh', '8.34 Lakh', '8.85 Lakh',\n",
       "       '25.4 Lakh', '16.67 Lakh', '79.43 Lakh', '6.62 Lakh', '1.04 Cr',\n",
       "       '58.67 Lakh', '28.37 Lakh', '4.48 Lakh', '72.64 Lakh',\n",
       "       '36.15 Lakh', '44.59 Lakh', '12 Lakh', '14.65 Lakh', '53.72 Lakh',\n",
       "       '33.91 Lakh', '12.51 Lakh', '9.74 Lakh', '95.38 Lakh',\n",
       "       '60.59 Lakh', '11.28 Lakh', '11.48 Lakh', '11.26 Lakh',\n",
       "       '43.65 Lakh', '62.07 Lakh', '86.97 Lakh', '1 Cr', '4.74 Lakh',\n",
       "       '14.84 Lakh', '49.49 Lakh', '48.18 Lakh', '12.34 Lakh',\n",
       "       '15.38 Lakh', '19.21 Lakh', '22.95 Lakh', '11.15 Lakh',\n",
       "       '10.32 Lakh', '28.05 Lakh', '59.77 Lakh', '15.86 Lakh',\n",
       "       '19.43 Lakh', '42.12 Lakh', '16.95 Lakh', '15.45 Lakh',\n",
       "       '7.87 Lakh', '4.7 Lakh', '15.02 Lakh', '12.56 Lakh', '11.33 Lakh',\n",
       "       '26.45 Lakh', '10.34 Lakh', '7.46 Lakh', '11.85 Lakh',\n",
       "       '10.41 Lakh', '5.57 Lakh', '42.48 Lakh', '16.04 Lakh', '9.1 Lakh',\n",
       "       '7.65 Lakh', '13.74 Lakh', '5.72 Lakh', '21.33 Lakh', '78.76 Lakh',\n",
       "       '4.29 Lakh', '10.04 Lakh', '11.67 Lakh', '8.56 Lakh', '4.78 Lakh',\n",
       "       '6.14 Lakh', '7.3 Lakh', '4.37 Lakh', '4.98 Lakh', '15.29 Lakh',\n",
       "       '24.26 Lakh', '75.12 Lakh', '9.53 Lakh', '34.6 Lakh', '52.26 Lakh',\n",
       "       '70.43 Lakh', '4.8 Lakh', '12.12 Lakh', '19.37 Lakh', '12.14 Lakh',\n",
       "       '36.69 Lakh', '23.68 Lakh', '55.61 Lakh', '14.1 Lakh',\n",
       "       '13.26 Lakh', '11.27 Lakh', '11.2 Lakh', '9.46 Lakh', '12.79 Lakh',\n",
       "       '15.57 Lakh', '19.86 Lakh', '6.59 Lakh', '6.54 Lakh', '26.56 Lakh',\n",
       "       '15.05 Lakh', '11.01 Lakh', '11 Lakh', '7.55 Lakh', '7.82 Lakh',\n",
       "       '6.32 Lakh', '15.14 Lakh', '15.72 Lakh', '45.67 Lakh', '54.7 Lakh',\n",
       "       '22.87 Lakh', '6.74 Lakh', '33.09 Lakh', '23.25 Lakh',\n",
       "       '19.27 Lakh', '52.77 Lakh', '7.92 Lakh', '7.85 Lakh', '15.55 Lakh',\n",
       "       '32.45 Lakh', '4.83 Lakh', '7.13 Lakh', '71.82 Lakh', '50.97 Lakh',\n",
       "       '10.73 Lakh', '9.5 Lakh', '52.46 Lakh', '6.07 Lakh', '5.54 Lakh',\n",
       "       '4.33 Lakh', '8.63 Lakh', '6.68 Lakh', '7.98 Lakh', '24.82 Lakh',\n",
       "       '7.63 Lakh', '22.86 Lakh', '11.06 Lakh', '19.39 Lakh',\n",
       "       '21.77 Lakh', '18.35 Lakh', '9.19 Lakh', '8.09 Lakh', '1.39 Cr',\n",
       "       '11.52 Lakh', '13.23 Lakh', '10.06 Lakh', '15.34 Lakh',\n",
       "       '24.01 Lakh', '11.39 Lakh', '9.79 Lakh', '35 Lakh', '9.26 Lakh',\n",
       "       '8.68 Lakh', '66.39 Lakh', '36.45 Lakh', '91.38 Lakh',\n",
       "       '53.41 Lakh', '4.59 Lakh', '67.87 Lakh', '9.44 Lakh', '48.64 Lakh',\n",
       "       '11.69 Lakh', '11.11 Lakh', '6.33 Lakh', '8.1 Lakh', '6.4 Lakh',\n",
       "       '7.59 Lakh', '7 Lakh', '7.43 Lakh', '22.43 Lakh', '24.02 Lakh',\n",
       "       '21.69 Lakh', '34.63 Lakh', '43.31 Lakh', '4.71 Lakh', '1.02 Cr',\n",
       "       '6.71 Lakh', '34.45 Lakh', '8.58 Lakh', '12.67 Lakh', '11.89 Lakh',\n",
       "       '10.48 Lakh', '13.59 Lakh', '11.02 Lakh', '41.94 Lakh',\n",
       "       '8.94 Lakh', '21.38 Lakh', '12.88 Lakh', '8.27 Lakh', '7.37 Lakh',\n",
       "       '7.33 Lakh', '23.06 Lakh', '1.4 Cr', '5.58 Lakh', '22.46 Lakh',\n",
       "       '7.69 Lakh', '9.4 Lakh', '6.08 Lakh', '8.36 Lakh', '1.06 Cr',\n",
       "       '71.15 Lakh', '6.82 Lakh', '8.12 Lakh', '9.78 Lakh', '7.36 Lakh',\n",
       "       '38.11 Lakh', '11.75 Lakh', '8.44 Lakh', '16.06 Lakh', '6.63 Lakh',\n",
       "       '1.27 Cr', '39.6 Lakh', '10.91 Lakh', '25.75 Lakh', '5.61 Lakh',\n",
       "       '8.05 Lakh', '8.82 Lakh', '17.38 Lakh', '5.69 Lakh', '37.51 Lakh',\n",
       "       '5.88 Lakh', '63.71 Lakh', '11.47 Lakh', '37.46 Lakh', '7.88 Lakh',\n",
       "       '11.37 Lakh', '11.3 Lakh', '92.5 Lakh', '15.06 Lakh', '39.57 Lakh',\n",
       "       '13.7 Lakh', '11.16 Lakh', '9.47 Lakh', '10.17 Lakh', '8.17 Lakh',\n",
       "       '9.58 Lakh', '9.14 Lakh', '64.14 Lakh', '16.36 Lakh', '37.38 Lakh',\n",
       "       '22.74 Lakh', '33.36 Lakh', '70.55 Lakh', '1.13 Cr', '45.36 Lakh',\n",
       "       '10.13 Lakh', '14.22 Lakh', '11.77 Lakh', '4.05 Lakh',\n",
       "       '26.95 Lakh', '4.82 Lakh', '7.17 Lakh', '13.58 Lakh', '9.09 Lakh',\n",
       "       '4.09 Lakh', '6.83 Lakh', '5.04 Lakh', '43.81 Lakh', '5.12 Lakh',\n",
       "       '5.71 Lakh', '5.87 Lakh', '8.16 Lakh', '9.72 Lakh', '10.3 Lakh',\n",
       "       '4.69 Lakh', '5.42 Lakh', '91.23 Lakh', '7.14 Lakh', '69.59 Lakh',\n",
       "       '4.61 Lakh', '5.3 Lakh', '7.97 Lakh', '59.38 Lakh', '67.1 Lakh',\n",
       "       '12.22 Lakh', '33.68 Lakh', '6.96 Lakh', '7.96 Lakh', '20.8 Lakh',\n",
       "       '6.78 Lakh', '19.91 Lakh', '8.93 Lakh', '11.66 Lakh', '7.35 Lakh',\n",
       "       '6.99 Lakh', '23.89 Lakh', '7.27 Lakh', '8.84 Lakh', '22.37 Lakh',\n",
       "       '12.02 Lakh', '3.95 Lakh', '48.79 Lakh', '4.66 Lakh', '11.29 Lakh',\n",
       "       '5.35 Lakh', '1.36 Cr', '6.23 Lakh', '47.16 Lakh', '41.98 Lakh',\n",
       "       '35.29 Lakh', '7.91 Lakh', '5.36 Lakh', '5.51 Lakh', '20.97 Lakh',\n",
       "       '34.89 Lakh', '16.4 Lakh', '1.66 Cr', '14.67 Lakh', '12.57 Lakh',\n",
       "       '9.48 Lakh', '8.95 Lakh', '23.19 Lakh', '8.24 Lakh', '8.71 Lakh',\n",
       "       '44.75 Lakh', '87.57 Lakh', '8.57 Lakh', '7.56 Lakh', '43.07 Lakh',\n",
       "       '7.83 Lakh', '6 Lakh', '13.76 Lakh', '14.11 Lakh', '12.47 Lakh',\n",
       "       '6.51 Lakh', '7.52 Lakh', '15.68 Lakh', '7.45 Lakh', '20.48 Lakh',\n",
       "       '15.17 Lakh', '8.13 Lakh', '8.79 Lakh', '14.72 Lakh', '25.54 Lakh',\n",
       "       '16.84 Lakh', '8.28 Lakh', '23.94 Lakh', '69.37 Lakh', '9.04 Lakh',\n",
       "       '55.07 Lakh', '10.97 Lakh', '21.72 Lakh', '4.9 Lakh', '10.1 Lakh',\n",
       "       '12.53 Lakh', '20.87 Lakh', '5.9 Lakh', '64.57 Lakh', '17.21 Lakh',\n",
       "       '6.56 Lakh', '47.2 Lakh', '10.14 Lakh', '1.6 Cr', '5.44 Lakh',\n",
       "       '26.55 Lakh', '8.26 Lakh', '4.5 Lakh', '56.97 Lakh', '11.19 Lakh',\n",
       "       '13.33 Lakh', '8.75 Lakh', '21.1 Lakh', '10.28 Lakh', '11.56 Lakh',\n",
       "       '27.07 Lakh', '4.36 Lakh', '10.81 Lakh', '8.55 Lakh', '22.66 Lakh',\n",
       "       '4.24 Lakh', '41.02 Lakh', '17 Lakh', '2.3 Cr', '10.89 Lakh',\n",
       "       '40.62 Lakh', '7.54 Lakh', '30.19 Lakh', '5.56 Lakh', '4.43 Lakh',\n",
       "       '37.17 Lakh', '12.9 Lakh', '19.18 Lakh', '10.99 Lakh',\n",
       "       '12.23 Lakh', '11.63 Lakh', '12.27 Lakh', '3.91 Lakh', '44.8 Lakh',\n",
       "       '50.4 Lakh', '4.04 Lakh', '11.96 Lakh', '11.44 Lakh', '24.63 Lakh',\n",
       "       '50.26 Lakh', '13.72 Lakh', '23.14 Lakh', '6.29 Lakh', '8.18 Lakh',\n",
       "       '7.48 Lakh', '83.92 Lakh', '36.94 Lakh', '13.6 Lakh', '10.7 Lakh',\n",
       "       '4.87 Lakh', '92.79 Lakh', '5.8 Lakh', '62.11 Lakh', '10.83 Lakh',\n",
       "       '11.05 Lakh', '9.99 Lakh', '14.32 Lakh', '6.21 Lakh', '74.49 Lakh',\n",
       "       '8.03 Lakh', '1.71 Cr', '37.9 Lakh', '32.54 Lakh', '11.71 Lakh',\n",
       "       '3.98 Lakh', '4.55 Lakh', '8.8 Lakh', '11.13 Lakh', '11.58 Lakh',\n",
       "       '10.63 Lakh', '12.68 Lakh', '17.7 Lakh', '14.23 Lakh', '9.62 Lakh',\n",
       "       '53.14 Lakh', '8.91 Lakh', '10.26 Lakh', '6.94 Lakh', '15.59 Lakh',\n",
       "       '78.31 Lakh', '42.89 Lakh', '9.56 Lakh', '64.76 Lakh',\n",
       "       '99.92 Lakh', '69.22 Lakh', '18.45 Lakh', '9.89 Lakh', '7.94 Lakh',\n",
       "       '8.73 Lakh', '8.69 Lakh', '42.4 Lakh', '23.37 Lakh', '79.78 Lakh',\n",
       "       '16.6 Lakh', '4.93 Lakh', '14.2 Lakh', '10.42 Lakh', '9.55 Lakh',\n",
       "       '5.45 Lakh', '8.38 Lakh', '5.95 Lakh', '15.36 Lakh', '10.94 Lakh',\n",
       "       '10.15 Lakh', '9.83 Lakh', '7.67 Lakh', '9.97 Lakh', '67.67 Lakh',\n",
       "       '53.68 Lakh', '6.05 Lakh', '10.25 Lakh', '8.23 Lakh', '7.01 Lakh',\n",
       "       '6.8 Lakh', '25.27 Lakh', '57.3 Lakh', '5.68 Lakh', '9.36 Lakh',\n",
       "       '38.72 Lakh', '7.7 Lakh', '6.43 Lakh', '5.67 Lakh', '3.96 Lakh',\n",
       "       '39.27 Lakh', '33.51 Lakh', '15.94 Lakh', '7.15 Lakh', '13.4 Lakh',\n",
       "       '11.88 Lakh', '21.36 Lakh', '5.92 Lakh', '6.42 Lakh', '8.99 Lakh',\n",
       "       '12.44 Lakh', '5.77 Lakh', '15.01 Lakh', '40.73 Lakh',\n",
       "       '33.21 Lakh', '4.45 Lakh', '20.46 Lakh', '39.22 Lakh', '7.77 Lakh',\n",
       "       '11.91 Lakh', '9.93 Lakh', '9.27 Lakh', '14.95 Lakh', '5.78 Lakh',\n",
       "       '6.3 Lakh', '5.74 Lakh', '52.96 Lakh', '15.93 Lakh', '3.99 Lakh',\n",
       "       '1.58 Cr', '6.15 Lakh', '31.93 Lakh', '15.88 Lakh', '7.19 Lakh',\n",
       "       '56.98 Lakh', '14.13 Lakh', '25.04 Lakh', '8.92 Lakh', '5.01 Lakh',\n",
       "       '19.01 Lakh', '9.45 Lakh', '3.75 Cr', '35.16 Lakh', '6.24 Lakh',\n",
       "       '9.42 Lakh', '4.56 Lakh', '29.9 Lakh', '7.12 Lakh', '9.94 Lakh',\n",
       "       '6.44 Lakh', '16.82 Lakh', '63.47 Lakh', '6.7 Lakh', '34.1 Lakh',\n",
       "       '5.31 Lakh', '15.24 Lakh', '36.5 Lakh', '37.03 Lakh', '10.86 Lakh',\n",
       "       '59.12 Lakh', '5.79 Lakh', '10.55 Lakh', '15.73 Lakh',\n",
       "       '27.56 Lakh', '4.75 Lakh', '7.08 Lakh', '77.92 Lakh', '14.86 Lakh',\n",
       "       '26.14 Lakh', '32.41 Lakh', '12.05 Lakh', '6.38 Lakh', '5.89 Lakh',\n",
       "       '6.55 Lakh', '7.79 Lakh', '18.32 Lakh', '16.64 Lakh', '9.54 Lakh',\n",
       "       '23.29 Lakh', '13.08 Lakh', '4.02 Lakh', '66.71 Lakh',\n",
       "       '15.11 Lakh', '49.12 Lakh', '10.51 Lakh', '8.65 Lakh', '8.6 Lakh',\n",
       "       '10.36 Lakh', '20.69 Lakh', '4.25 Lakh', '92.01 Lakh', '7.9 Lakh',\n",
       "       '7.21 Lakh', '16.94 Lakh', '5.27 Lakh', '11.14 Lakh', '20.01 Lakh',\n",
       "       '32.62 Lakh', '11.59 Lakh', '6.46 Lakh', '19.72 Lakh',\n",
       "       '12.46 Lakh', '9.11 Lakh', '5.53 Lakh', '7.06 Lakh', '18.16 Lakh'],\n",
       "      dtype=object)"
      ]
     },
     "execution_count": 317,
     "metadata": {},
     "output_type": "execute_result"
    }
   ],
   "source": [
    "df.New_Price.unique()"
   ]
  },
  {
   "cell_type": "code",
   "execution_count": 319,
   "id": "3d2f35ac-41c7-42fa-8f9f-f051f9cc81ce",
   "metadata": {},
   "outputs": [],
   "source": [
    "def convert_price(value):\n",
    "    if isinstance(value, str):\n",
    "        if 'Lakh' in value:\n",
    "            return float(value.replace('Lakh', '').strip())\n",
    "        elif 'Cr' in value:\n",
    "            return float(value.replace('Cr', '').strip()) * 100\n",
    "    return None"
   ]
  },
  {
   "cell_type": "code",
   "execution_count": 321,
   "id": "401f9dda-470a-40d6-a1a5-d21cf2d3e22a",
   "metadata": {},
   "outputs": [],
   "source": [
    "df['New_Price'] = df['New_Price'].apply(convert_price)"
   ]
  },
  {
   "cell_type": "code",
   "execution_count": 323,
   "id": "208583a4-57d0-4659-ba5f-2a821761986e",
   "metadata": {},
   "outputs": [
    {
     "data": {
      "text/plain": [
       "array([   nan,   8.61,  21.  ,  10.65,  32.01,  47.87,  10.57,  12.33,\n",
       "        11.12,  23.64,  18.64,  19.34,  49.14,  11.81,  16.65,   6.67,\n",
       "         6.45,   6.41,  27.  ,   5.13,  54.43,   9.51,   9.96,  14.44,\n",
       "         4.53,  95.04,  13.49, 128.  ,  60.88,   7.39,  69.47,   8.78,\n",
       "        12.74,  10.52,  11.98,   8.54,  33.58,   9.12,   5.29,  44.28,\n",
       "        20.74,  11.74,  25.52,  14.07,  95.13,   8.34,   8.85,  25.4 ,\n",
       "        16.67,  79.43,   6.62, 104.  ,  58.67,  28.37,   4.48,  72.64,\n",
       "        36.15,  44.59,  12.  ,  14.65,  53.72,  33.91,  12.51,   9.74,\n",
       "        95.38,  60.59,  11.28,  11.48,  11.26,  43.65,  62.07,  86.97,\n",
       "       100.  ,   4.74,  14.84,  49.49,  48.18,  12.34,  15.38,  19.21,\n",
       "        22.95,  11.15,  10.32,  28.05,  59.77,  15.86,  19.43,  42.12,\n",
       "        16.95,  15.45,   7.87,   4.7 ,  15.02,  12.56,  11.33,  26.45,\n",
       "        10.34,   7.46,  11.85,  10.41,   5.57,  42.48,  16.04,   9.1 ,\n",
       "         7.65,  13.74,   5.72,  21.33,  78.76,   4.29,  10.04,  11.67,\n",
       "         8.56,   4.78,   6.14,   7.3 ,   4.37,   4.98,  15.29,  24.26,\n",
       "        75.12,   9.53,  34.6 ,  52.26,  70.43,   4.8 ,  12.12,  19.37,\n",
       "        12.14,  36.69,  23.68,  55.61,  14.1 ,  13.26,  11.27,  11.2 ,\n",
       "         9.46,  12.79,  15.57,  19.86,   6.59,   6.54,  26.56,  15.05,\n",
       "        11.01,  11.  ,   7.55,   7.82,   6.32,  15.14,  15.72,  45.67,\n",
       "        54.7 ,  22.87,   6.74,  33.09,  23.25,  19.27,  52.77,   7.92,\n",
       "         7.85,  15.55,  32.45,   4.83,   7.13,  71.82,  50.97,  10.73,\n",
       "         9.5 ,  52.46,   6.07,   5.54,   4.33,   8.63,   6.68,   7.98,\n",
       "        24.82,   7.63,  22.86,  11.06,  19.39,  21.77,  18.35,   9.19,\n",
       "         8.09, 139.  ,  11.52,  13.23,  10.06,  15.34,  24.01,  11.39,\n",
       "         9.79,  35.  ,   9.26,   8.68,  66.39,  36.45,  91.38,  53.41,\n",
       "         4.59,  67.87,   9.44,  48.64,  11.69,  11.11,   6.33,   8.1 ,\n",
       "         6.4 ,   7.59,   7.  ,   7.43,  22.43,  24.02,  21.69,  34.63,\n",
       "        43.31,   4.71, 102.  ,   6.71,  34.45,   8.58,  12.67,  11.89,\n",
       "        10.48,  13.59,  11.02,  41.94,   8.94,  21.38,  12.88,   8.27,\n",
       "         7.37,   7.33,  23.06, 140.  ,   5.58,  22.46,   7.69,   9.4 ,\n",
       "         6.08,   8.36, 106.  ,  71.15,   6.82,   8.12,   9.78,   7.36,\n",
       "        38.11,  11.75,   8.44,  16.06,   6.63, 127.  ,  39.6 ,  10.91,\n",
       "        25.75,   5.61,   8.05,   8.82,  17.38,   5.69,  37.51,   5.88,\n",
       "        63.71,  11.47,  37.46,   7.88,  11.37,  11.3 ,  92.5 ,  15.06,\n",
       "        39.57,  13.7 ,  11.16,   9.47,  10.17,   8.17,   9.58,   9.14,\n",
       "        64.14,  16.36,  37.38,  22.74,  33.36,  70.55, 113.  ,  45.36,\n",
       "        10.13,  14.22,  11.77,   4.05,  26.95,   4.82,   7.17,  13.58,\n",
       "         9.09,   4.09,   6.83,   5.04,  43.81,   5.12,   5.71,   5.87,\n",
       "         8.16,   9.72,  10.3 ,   4.69,   5.42,  91.23,   7.14,  69.59,\n",
       "         4.61,   5.3 ,   7.97,  59.38,  67.1 ,  12.22,  33.68,   6.96,\n",
       "         7.96,  20.8 ,   6.78,  19.91,   8.93,  11.66,   7.35,   6.99,\n",
       "        23.89,   7.27,   8.84,  22.37,  12.02,   3.95,  48.79,   4.66,\n",
       "        11.29,   5.35, 136.  ,   6.23,  47.16,  41.98,  35.29,   7.91,\n",
       "         5.36,   5.51,  20.97,  34.89,  16.4 , 166.  ,  14.67,  12.57,\n",
       "         9.48,   8.95,  23.19,   8.24,   8.71,  44.75,  87.57,   8.57,\n",
       "         7.56,  43.07,   7.83,   6.  ,  13.76,  14.11,  12.47,   6.51,\n",
       "         7.52,  15.68,   7.45,  20.48,  15.17,   8.13,   8.79,  14.72,\n",
       "        25.54,  16.84,   8.28,  23.94,  69.37,   9.04,  55.07,  10.97,\n",
       "        21.72,   4.9 ,  10.1 ,  12.53,  20.87,   5.9 ,  64.57,  17.21,\n",
       "         6.56,  47.2 ,  10.14, 160.  ,   5.44,  26.55,   8.26,   4.5 ,\n",
       "        56.97,  11.19,  13.33,   8.75,  21.1 ,  10.28,  11.56,  27.07,\n",
       "         4.36,  10.81,   8.55,  22.66,   4.24,  41.02,  17.  , 230.  ,\n",
       "        10.89,  40.62,   7.54,  30.19,   5.56,   4.43,  37.17,  12.9 ,\n",
       "        19.18,  10.99,  12.23,  11.63,  12.27,   3.91,  44.8 ,  50.4 ,\n",
       "         4.04,  11.96,  11.44,  24.63,  50.26,  13.72,  23.14,   6.29,\n",
       "         8.18,   7.48,  83.92,  36.94,  13.6 ,  10.7 ,   4.87,  92.79,\n",
       "         5.8 ,  62.11,  10.83,  11.05,   9.99,  14.32,   6.21,  74.49,\n",
       "         8.03, 171.  ,  37.9 ,  32.54,  11.71,   3.98,   4.55,   8.8 ,\n",
       "        11.13,  11.58,  10.63,  12.68,  17.7 ,  14.23,   9.62,  53.14,\n",
       "         8.91,  10.26,   6.94,  15.59,  78.31,  42.89,   9.56,  64.76,\n",
       "        99.92,  69.22,  18.45,   9.89,   7.94,   8.73,   8.69,  42.4 ,\n",
       "        23.37,  79.78,  16.6 ,   4.93,  14.2 ,  10.42,   9.55,   5.45,\n",
       "         8.38,   5.95,  15.36,  10.94,  10.15,   9.83,   7.67,   9.97,\n",
       "        67.67,  53.68,   6.05,  10.25,   8.23,   7.01,   6.8 ,  25.27,\n",
       "        57.3 ,   5.68,   9.36,  38.72,   7.7 ,   6.43,   5.67,   3.96,\n",
       "        39.27,  33.51,  15.94,   7.15,  13.4 ,  11.88,  21.36,   5.92,\n",
       "         6.42,   8.99,  12.44,   5.77,  15.01,  40.73,  33.21,   4.45,\n",
       "        20.46,  39.22,   7.77,  11.91,   9.93,   9.27,  14.95,   5.78,\n",
       "         6.3 ,   5.74,  52.96,  15.93,   3.99, 158.  ,   6.15,  31.93,\n",
       "        15.88,   7.19,  56.98,  14.13,  25.04,   8.92,   5.01,  19.01,\n",
       "         9.45, 375.  ,  35.16,   6.24,   9.42,   4.56,  29.9 ,   7.12,\n",
       "         9.94,   6.44,  16.82,  63.47,   6.7 ,  34.1 ,   5.31,  15.24,\n",
       "        36.5 ,  37.03,  10.86,  59.12,   5.79,  10.55,  15.73,  27.56,\n",
       "         4.75,   7.08,  77.92,  14.86,  26.14,  32.41,  12.05,   6.38,\n",
       "         5.89,   6.55,   7.79,  18.32,  16.64,   9.54,  23.29,  13.08,\n",
       "         4.02,  66.71,  15.11,  49.12,  10.51,   8.65,   8.6 ,  10.36,\n",
       "        20.69,   4.25,  92.01,   7.9 ,   7.21,  16.94,   5.27,  11.14,\n",
       "        20.01,  32.62,  11.59,   6.46,  19.72,  12.46,   9.11,   5.53,\n",
       "         7.06,  18.16])"
      ]
     },
     "execution_count": 323,
     "metadata": {},
     "output_type": "execute_result"
    }
   ],
   "source": [
    "df.New_Price.unique()"
   ]
  },
  {
   "cell_type": "code",
   "execution_count": 325,
   "id": "3efa630c-7e3c-4579-b686-40df0642edb6",
   "metadata": {},
   "outputs": [],
   "source": [
    "df.dropna(inplace=True,ignore_index=True) # here we are going to delete all row in which having nan values"
   ]
  },
  {
   "cell_type": "code",
   "execution_count": 327,
   "id": "4bd55194-bc29-4084-a2db-b49c0748926b",
   "metadata": {},
   "outputs": [
    {
     "data": {
      "text/plain": [
       "array([  8.61,  21.  ,  10.65,  32.01,  47.87,  10.57,  12.33,  11.12,\n",
       "        23.64,  18.64,  19.34,  49.14,  11.81,  16.65,   6.67,   6.45,\n",
       "         6.41,  27.  ,   5.13,  54.43,   9.51,   9.96,  14.44,   4.53,\n",
       "        95.04,  13.49, 128.  ,  60.88,   7.39,  69.47,   8.78,  12.74,\n",
       "        10.52,  11.98,   8.54,  33.58,   9.12,   5.29,  44.28,  20.74,\n",
       "        11.74,  25.52,  14.07,  95.13,   8.34,   8.85,  25.4 ,  16.67,\n",
       "        79.43,   6.62, 104.  ,  58.67,  28.37,   4.48,  72.64,  36.15,\n",
       "        44.59,  12.  ,  14.65,  53.72,  33.91,  12.51,   9.74,  95.38,\n",
       "        60.59,  11.28,  11.48,  11.26,  43.65,  62.07,  86.97, 100.  ,\n",
       "         4.74,  14.84,  49.49,  48.18,  12.34,  15.38,  19.21,  22.95,\n",
       "        11.15,  10.32,  28.05,  59.77,  15.86,  19.43,  42.12,  16.95,\n",
       "        15.45,   7.87,   4.7 ,  15.02,  12.56,  11.33,  26.45,  10.34,\n",
       "         7.46,  11.85,  10.41,   5.57,  42.48,  16.04,   9.1 ,   7.65,\n",
       "        13.74,   5.72,  21.33,  78.76,   4.29,  10.04,  11.67,   8.56,\n",
       "         4.78,   6.14,   7.3 ,   4.37,   4.98,  15.29,  24.26,  75.12,\n",
       "         9.53,  34.6 ,  52.26,  70.43,   4.8 ,  12.12,  19.37,  12.14,\n",
       "        36.69,  23.68,  55.61,  14.1 ,  13.26,  11.27,  11.2 ,   9.46,\n",
       "        12.79,  15.57,  19.86,   6.59,   6.54,  26.56,  15.05,  11.01,\n",
       "        11.  ,   7.55,   7.82,   6.32,  15.14,  15.72,  45.67,  54.7 ,\n",
       "        22.87,   6.74,  33.09,  23.25,  19.27,  52.77,   7.92,   7.85,\n",
       "        15.55,  32.45,   4.83,   7.13,  71.82,  50.97,  10.73,   9.5 ,\n",
       "        52.46,   6.07,   5.54,   4.33,   8.63,   6.68,   7.98,  24.82,\n",
       "         7.63,  22.86,  11.06,  19.39,  21.77,  18.35,   9.19,   8.09,\n",
       "       139.  ,  11.52,  13.23,  10.06,  15.34,  24.01,  11.39,   9.79,\n",
       "        35.  ,   9.26,   8.68,  66.39,  36.45,  91.38,  53.41,   4.59,\n",
       "        67.87,   9.44,  48.64,  11.69,  11.11,   6.33,   8.1 ,   6.4 ,\n",
       "         7.59,   7.  ,   7.43,  22.43,  24.02,  21.69,  34.63,  43.31,\n",
       "         4.71, 102.  ,   6.71,  34.45,   8.58,  12.67,  11.89,  10.48,\n",
       "        13.59,  11.02,  41.94,   8.94,  21.38,  12.88,   8.27,   7.37,\n",
       "         7.33,  23.06, 140.  ,   5.58,  22.46,   7.69,   9.4 ,   6.08,\n",
       "         8.36, 106.  ,  71.15,   6.82,   8.12,   9.78,   7.36,  38.11,\n",
       "        11.75,   8.44,  16.06,   6.63, 127.  ,  39.6 ,  10.91,  25.75,\n",
       "         5.61,   8.05,   8.82,  17.38,   5.69,  37.51,   5.88,  63.71,\n",
       "        11.47,  37.46,   7.88,  11.37,  11.3 ,  92.5 ,  15.06,  39.57,\n",
       "        13.7 ,  11.16,   9.47,  10.17,   8.17,   9.58,   9.14,  64.14,\n",
       "        16.36,  37.38,  22.74,  33.36,  70.55, 113.  ,  45.36,  10.13,\n",
       "        14.22,  11.77,   4.05,  26.95,   4.82,   7.17,  13.58,   9.09,\n",
       "         4.09,   6.83,   5.04,  43.81,   5.12,   5.71,   5.87,   8.16,\n",
       "         9.72,  10.3 ,   4.69,   5.42,  91.23,   7.14,  69.59,   4.61,\n",
       "         5.3 ,   7.97,  59.38,  67.1 ,  12.22,  33.68,   6.96,   7.96,\n",
       "        20.8 ,   6.78,  19.91,   8.93,  11.66,   7.35,   6.99,  23.89,\n",
       "         7.27,   8.84,  22.37,  12.02,   3.95,  48.79,   4.66,  11.29,\n",
       "         5.35, 136.  ,   6.23,  47.16,  41.98,  35.29,   7.91,   5.36,\n",
       "         5.51,  20.97,  34.89,  16.4 , 166.  ,  14.67,  12.57,   9.48,\n",
       "         8.95,  23.19,   8.24,   8.71,  44.75,  87.57,   8.57,   7.56,\n",
       "        43.07,   7.83,   6.  ,  13.76,  14.11,  12.47,   6.51,   7.52,\n",
       "        15.68,   7.45,  20.48,  15.17,   8.13,   8.79,  14.72,  25.54,\n",
       "        16.84,   8.28,  23.94,  69.37,   9.04,  55.07,  10.97,  21.72,\n",
       "         4.9 ,  10.1 ,  12.53,  20.87,   5.9 ,  64.57,  17.21,   6.56,\n",
       "        47.2 ,  10.14, 160.  ,   5.44,  26.55,   8.26,   4.5 ,  56.97,\n",
       "        11.19,  13.33,   8.75,  21.1 ,  10.28,  11.56,  27.07,   4.36,\n",
       "        10.81,   8.55,  22.66,   4.24,  41.02,  17.  , 230.  ,  10.89,\n",
       "        40.62,   7.54,  30.19,   5.56,   4.43,  37.17,  12.9 ,  19.18,\n",
       "        10.99,  12.23,  11.63,  12.27,   3.91,  44.8 ,  50.4 ,   4.04,\n",
       "        11.96,  11.44,  24.63,  50.26,  13.72,  23.14,   6.29,   8.18,\n",
       "         7.48,  83.92,  36.94,  13.6 ,  10.7 ,   4.87,  92.79,   5.8 ,\n",
       "        62.11,  10.83,  11.05,   9.99,  14.32,   6.21,  74.49,   8.03,\n",
       "       171.  ,  37.9 ,  32.54,  11.71,   3.98,   4.55,   8.8 ,  11.13,\n",
       "        11.58,  10.63,  12.68,  17.7 ,  14.23,   9.62,  53.14,   8.91,\n",
       "        10.26,   6.94,  15.59,  78.31,  42.89,   9.56,  64.76,  99.92,\n",
       "        69.22,  18.45,   9.89,   7.94,   8.73,   8.69,  42.4 ,  23.37,\n",
       "        79.78,  16.6 ,   4.93,  14.2 ,  10.42,   9.55,   5.45,   8.38,\n",
       "         5.95,  15.36,  10.94,  10.15,   9.83,   7.67,   9.97,  67.67,\n",
       "        53.68,   6.05,  10.25,   8.23,   7.01,   6.8 ,  25.27,  57.3 ,\n",
       "         5.68,   9.36,  38.72,   7.7 ,   6.43,   5.67,   3.96,  39.27,\n",
       "        33.51,  15.94,   7.15,  13.4 ,  11.88,  21.36,   5.92,   6.42,\n",
       "         8.99,  12.44,   5.77,  15.01,  40.73,  33.21,   4.45,  20.46,\n",
       "        39.22,   7.77,  11.91,   9.93])"
      ]
     },
     "execution_count": 327,
     "metadata": {},
     "output_type": "execute_result"
    }
   ],
   "source": [
    "df.New_Price.unique()"
   ]
  },
  {
   "cell_type": "code",
   "execution_count": 84,
   "id": "4972701a-346e-441a-a699-221a671f49b2",
   "metadata": {},
   "outputs": [
    {
     "name": "stdout",
     "output_type": "stream",
     "text": [
      "Minimum Price: 0.44\n",
      "Maximum Price: 160.0\n"
     ]
    }
   ],
   "source": [
    "print(f\"Minimum Price: {df['Price'].min()}\")\n",
    "print(f\"Maximum Price: {df['Price'].max()}\")"
   ]
  },
  {
   "cell_type": "code",
   "execution_count": 86,
   "id": "3a749c36-d9f6-4ac4-84ea-67b1d4d64ea5",
   "metadata": {},
   "outputs": [],
   "source": [
    "# Which year has the highest number of cars listed?"
   ]
  },
  {
   "cell_type": "code",
   "execution_count": 116,
   "id": "21278d36-4bf8-43ed-9e72-bfa045997cf5",
   "metadata": {},
   "outputs": [
    {
     "data": {
      "text/plain": [
       "Year\n",
       "2015    929\n",
       "2014    925\n",
       "2016    886\n",
       "2013    791\n",
       "2017    709\n",
       "Name: count, dtype: int64"
      ]
     },
     "execution_count": 116,
     "metadata": {},
     "output_type": "execute_result"
    }
   ],
   "source": [
    "highest_num = df['Year'].value_counts().head()\n",
    "highest_num"
   ]
  },
  {
   "cell_type": "code",
   "execution_count": 114,
   "id": "eea78f3e-8e09-49bd-b270-bdfbc47afb9a",
   "metadata": {},
   "outputs": [
    {
     "data": {
      "text/plain": [
       "929"
      ]
     },
     "execution_count": 114,
     "metadata": {},
     "output_type": "execute_result"
    }
   ],
   "source": [
    "# Which year has the highest number of cars listed?\n",
    "highest_num = df['Year'].value_counts().max()\n",
    "highest_num"
   ]
  },
  {
   "cell_type": "code",
   "execution_count": 98,
   "id": "3aed0c0a-ca08-4a45-b64c-f3889e8ffa8b",
   "metadata": {},
   "outputs": [
    {
     "data": {
      "text/plain": [
       "2015"
      ]
     },
     "execution_count": 98,
     "metadata": {},
     "output_type": "execute_result"
    }
   ],
   "source": [
    "top_year = df['Year'].value_counts().idxmax()\n",
    "top_year"
   ]
  },
  {
   "cell_type": "code",
   "execution_count": 118,
   "id": "f1628930-20af-4b35-83ef-0de2c5a9fe2e",
   "metadata": {},
   "outputs": [],
   "source": [
    "# Convert 'Mileage' and 'Power' columns into float values. Write a code snippet for it."
   ]
  },
  {
   "cell_type": "code",
   "execution_count": 120,
   "id": "041667c7-108e-42ac-be5b-ce615608ebbb",
   "metadata": {},
   "outputs": [
    {
     "name": "stdout",
     "output_type": "stream",
     "text": [
      "\n",
      "Converting 'Mileage' and 'Power' to float:\n",
      "\n",
      "Updated DataFrame with float Mileage and Power:\n",
      "   Mileage  Mileage_Float   Power  Power_Float\n",
      "0    26.60          26.60   58.16        58.16\n",
      "1    19.67          19.67  126.20       126.20\n",
      "2    18.20          18.20   88.70        88.70\n",
      "3    20.77          20.77   88.76        88.76\n",
      "4    15.20          15.20  140.80       140.80\n"
     ]
    }
   ],
   "source": [
    "print(\"\\nConverting 'Mileage' and 'Power' to float:\")\n",
    "def convert_mileage_to_float(mileage):\n",
    "    if isinstance(mileage, str):\n",
    "        return float(mileage.split(' ')[0])\n",
    "    return mileage\n",
    "\n",
    "def convert_power_to_float(power):\n",
    "    if isinstance(power, str):\n",
    "        return float(power.split(' ')[0])\n",
    "    return power\n",
    "\n",
    "df['Mileage_Float'] = df['Mileage'].apply(convert_mileage_to_float).round(2)\n",
    "df['Power_Float'] = df['Power'].apply(convert_power_to_float)\n",
    "\n",
    "print(\"\\nUpdated DataFrame with float Mileage and Power:\")\n",
    "print(df[['Mileage', 'Mileage_Float', 'Power', 'Power_Float']].head())"
   ]
  },
  {
   "cell_type": "code",
   "execution_count": 122,
   "id": "30c1c9bf-1319-4efa-ba76-5b0c8ed8a2dd",
   "metadata": {},
   "outputs": [],
   "source": [
    "df['Mileage'] = df['Mileage'].astype(float)"
   ]
  },
  {
   "cell_type": "code",
   "execution_count": 124,
   "id": "79226996-8b89-458d-9802-1a74131449ad",
   "metadata": {},
   "outputs": [],
   "source": [
    "df['Power'] = df['Power'].astype(float)\n"
   ]
  },
  {
   "cell_type": "code",
   "execution_count": 126,
   "id": "63aeaa8f-883d-4a5d-84f2-531db91b9aaf",
   "metadata": {},
   "outputs": [
    {
     "name": "stdout",
     "output_type": "stream",
     "text": [
      "Mileage    float64\n",
      "Power      float64\n",
      "dtype: object\n"
     ]
    }
   ],
   "source": [
    "print(df[['Mileage', 'Power']].dtypes)"
   ]
  },
  {
   "cell_type": "code",
   "execution_count": 411,
   "id": "b5e70317-15ae-44bc-9f84-86c492fc2f63",
   "metadata": {},
   "outputs": [
    {
     "data": {
      "text/plain": [
       "0         Manual\n",
       "1      Automatic\n",
       "2         Manual\n",
       "3         Manual\n",
       "4      Automatic\n",
       "         ...    \n",
       "819       Manual\n",
       "820       Manual\n",
       "821       Manual\n",
       "822       Manual\n",
       "823       Manual\n",
       "Name: Transmission, Length: 824, dtype: object"
      ]
     },
     "execution_count": 411,
     "metadata": {},
     "output_type": "execute_result"
    }
   ],
   "source": [
    "# What is the distribution of transmission types in the dataset?\n",
    "df['Transmission']"
   ]
  },
  {
   "cell_type": "code",
   "execution_count": 132,
   "id": "cc7e79c4-f299-424f-a100-5d807d171b2b",
   "metadata": {},
   "outputs": [
    {
     "name": "stdout",
     "output_type": "stream",
     "text": [
      "Distribution of transmission types:\n"
     ]
    },
    {
     "data": {
      "text/plain": [
       "Transmission\n",
       "Manual       5204\n",
       "Automatic    2049\n",
       "Name: count, dtype: int64"
      ]
     },
     "execution_count": 132,
     "metadata": {},
     "output_type": "execute_result"
    }
   ],
   "source": [
    "print(f\"Distribution of transmission types:\")\n",
    "df['Transmission'].value_counts()"
   ]
  },
  {
   "cell_type": "code",
   "execution_count": 142,
   "id": "f07ae694-8470-47d0-9114-ec6f02e6f974",
   "metadata": {},
   "outputs": [
    {
     "name": "stdout",
     "output_type": "stream",
     "text": [
      "Average selling price of cars by Fuel_Type:\n"
     ]
    },
    {
     "data": {
      "text/plain": [
       "Fuel_Type\n",
       "CNG          3.516786\n",
       "Diesel      12.840605\n",
       "Electric    12.875000\n",
       "LPG          2.487000\n",
       "Petrol       5.701100\n",
       "Name: Price, dtype: float64"
      ]
     },
     "execution_count": 142,
     "metadata": {},
     "output_type": "execute_result"
    }
   ],
   "source": [
    "# Find the average selling price of cars by Fuel_Type.\n",
    "print(f\"Average selling price of cars by Fuel_Type:\")\n",
    "df.groupby(\"Fuel_Type\").Price.mean()"
   ]
  },
  {
   "cell_type": "code",
   "execution_count": null,
   "id": "70759a78-7411-400c-9fbc-251a337c4c6b",
   "metadata": {},
   "outputs": [],
   "source": []
  },
  {
   "cell_type": "code",
   "execution_count": 150,
   "id": "6c45907b-d044-4498-8526-01c320d95f91",
   "metadata": {},
   "outputs": [
    {
     "name": "stdout",
     "output_type": "stream",
     "text": [
      "City with the highest average car price:\n"
     ]
    },
    {
     "data": {
      "text/plain": [
       "Location\n",
       "Ahmedabad      8.457321\n",
       "Bangalore     13.328631\n",
       "Chennai        7.753623\n",
       "Coimbatore    15.078223\n",
       "Delhi          9.707726\n",
       "Hyderabad      9.776550\n",
       "Jaipur         5.809225\n",
       "Kochi         11.179186\n",
       "Kolkata        5.661215\n",
       "Mumbai         9.429329\n",
       "Pune           6.726254\n",
       "Name: Price, dtype: float64"
      ]
     },
     "execution_count": 150,
     "metadata": {},
     "output_type": "execute_result"
    }
   ],
   "source": [
    "# Which city has the highest average car price?\n",
    "print(f\"City with the highest average car price:\")\n",
    "df.groupby(\"Location\").Price.mean()"
   ]
  },
  {
   "cell_type": "code",
   "execution_count": 152,
   "id": "29e9ec74-2533-40ac-8ecc-0bf80d4afbeb",
   "metadata": {},
   "outputs": [
    {
     "data": {
      "text/plain": [
       "'Coimbatore'"
      ]
     },
     "execution_count": 152,
     "metadata": {},
     "output_type": "execute_result"
    }
   ],
   "source": [
    "df.groupby(\"Location\").Price.mean().idxmax()"
   ]
  },
  {
   "cell_type": "code",
   "execution_count": 162,
   "id": "edb1a1fe-101e-4ee0-b3fe-7fcaea65c326",
   "metadata": {},
   "outputs": [
    {
     "name": "stdout",
     "output_type": "stream",
     "text": [
      "Number of cars listed each year:\n",
      "Year\n",
      "1996      1\n",
      "1998      4\n",
      "1999      2\n",
      "2000      5\n",
      "2001      8\n",
      "2002     18\n",
      "2003     20\n",
      "2004     35\n",
      "2005     68\n",
      "2006     89\n",
      "2007    148\n",
      "2008    207\n",
      "2009    252\n",
      "2010    407\n",
      "2011    579\n",
      "2012    690\n",
      "2013    791\n",
      "2014    925\n",
      "2015    929\n",
      "2016    886\n",
      "2017    709\n",
      "2018    361\n",
      "2019    119\n",
      "Name: Name, dtype: int64\n",
      "Year\n",
      "1996      1\n",
      "1998      4\n",
      "1999      2\n",
      "2000      5\n",
      "2001      8\n",
      "2002     16\n",
      "2003     19\n",
      "2004     32\n",
      "2005     52\n",
      "2006     71\n",
      "2007    109\n",
      "2008    153\n",
      "2009    163\n",
      "2010    257\n",
      "2011    332\n",
      "2012    381\n",
      "2013    427\n",
      "2014    477\n",
      "2015    507\n",
      "2016    514\n",
      "2017    447\n",
      "2018    269\n",
      "2019    108\n",
      "Name: Name, dtype: int64\n"
     ]
    }
   ],
   "source": [
    "# Group the cars by Year and count how many cars were listed each year.\n",
    "print(f\"Number of cars listed each year:\")\n",
    "print(df.groupby(\"Year\").Name.size())\n",
    "print(df.groupby(\"Year\")[\"Name\"].nunique())"
   ]
  },
  {
   "cell_type": "code",
   "execution_count": 166,
   "id": "9efc145e-68e9-4d83-873a-06747d0fa0d8",
   "metadata": {},
   "outputs": [
    {
     "data": {
      "text/plain": [
       "Transmission\n",
       "Automatic    15.759411\n",
       "Manual       19.079525\n",
       "Name: Mileage, dtype: float64"
      ]
     },
     "execution_count": 166,
     "metadata": {},
     "output_type": "execute_result"
    }
   ],
   "source": [
    "# Calculate the average mileage for each transmission type.\n",
    "df.groupby(\"Transmission\").Mileage.mean()"
   ]
  },
  {
   "cell_type": "code",
   "execution_count": 176,
   "id": "6edc5182-90fd-4b4c-9836-a1145d5b111e",
   "metadata": {},
   "outputs": [
    {
     "name": "stdout",
     "output_type": "stream",
     "text": [
      "Car model with the highest average price:\n"
     ]
    },
    {
     "data": {
      "text/plain": [
       "'Land Rover Range Rover 3.0 Diesel LWB Vogue'"
      ]
     },
     "execution_count": 176,
     "metadata": {},
     "output_type": "execute_result"
    }
   ],
   "source": [
    "# Which car model has the highest average price?\n",
    "print(f\"Car model with the highest average price:\")\n",
    "df.groupby('Name').Price.mean().idxmax()"
   ]
  },
  {
   "cell_type": "code",
   "execution_count": 182,
   "id": "bf169d08-e60e-4070-a014-124116f1407c",
   "metadata": {},
   "outputs": [
    {
     "name": "stdout",
     "output_type": "stream",
     "text": [
      "Average kilometers driven by Owner_Type:\n"
     ]
    },
    {
     "data": {
      "text/plain": [
       "Owner_Type\n",
       "First              55255.363911\n",
       "Fourth & Above    119756.500000\n",
       "Second             72433.625868\n",
       "Third              87472.729927\n",
       "Name: Kilometers_Driven, dtype: float64"
      ]
     },
     "execution_count": 182,
     "metadata": {},
     "output_type": "execute_result"
    }
   ],
   "source": [
    "# Group by Owner_Type and find the average kilometers driven.\n",
    "print(f\"Average kilometers driven by Owner_Type:\")\n",
    "df.groupby('Owner_Type').Kilometers_Driven.mean()"
   ]
  },
  {
   "cell_type": "code",
   "execution_count": 188,
   "id": "1a19b777-8b5f-4c9e-9ebc-e0b987d61dbd",
   "metadata": {},
   "outputs": [
    {
     "data": {
      "text/plain": [
       "Fuel_Type\n",
       "Diesel    126.949764\n",
       "Petrol     97.436329\n",
       "Name: Power, dtype: float64"
      ]
     },
     "execution_count": 188,
     "metadata": {},
     "output_type": "execute_result"
    }
   ],
   "source": [
    "# What is the average power (bhp) of diesel vs petrol cars?\n",
    "df.groupby('Fuel_Type').Power.mean()[['Diesel','Petrol']]"
   ]
  },
  {
   "cell_type": "code",
   "execution_count": 190,
   "id": "afe20f4f-7d87-4671-9b4a-fe4d58823822",
   "metadata": {},
   "outputs": [
    {
     "data": {
      "text/plain": [
       "Fuel_Type  Transmission\n",
       "CNG        Manual           3.516786\n",
       "Diesel     Automatic       24.583078\n",
       "           Manual           6.636190\n",
       "Electric   Automatic       12.875000\n",
       "LPG        Manual           2.487000\n",
       "Petrol     Automatic       11.258738\n",
       "           Manual           4.113947\n",
       "Name: Price, dtype: float64"
      ]
     },
     "execution_count": 190,
     "metadata": {},
     "output_type": "execute_result"
    }
   ],
   "source": [
    "# Group the cars by 'Fuel_Type' and 'Transmission' and calculate the mean price\n",
    "df.groupby(['Fuel_Type','Transmission']).Price.mean()"
   ]
  },
  {
   "cell_type": "code",
   "execution_count": 200,
   "id": "ca6da174-4d4d-4141-8f91-3289f45e90c2",
   "metadata": {},
   "outputs": [
    {
     "data": {
      "text/plain": [
       "Owner_Type\n",
       "First    9.962445\n",
       "Name: Price, dtype: float64"
      ]
     },
     "execution_count": 200,
     "metadata": {},
     "output_type": "execute_result"
    }
   ],
   "source": [
    "# Which Owner_Type has the highest average resale value?\n",
    "df.groupby('Owner_Type').Price.mean().sort_values(ascending = False).head(1)\n",
    "# df.groupby('Owner_Type').Price.mean().idxmax()"
   ]
  },
  {
   "cell_type": "code",
   "execution_count": 206,
   "id": "e36e5b28-014a-4ac3-a021-5953ce734c8a",
   "metadata": {},
   "outputs": [
    {
     "data": {
      "text/plain": [
       "Location\n",
       "Ahmedabad     16.837586\n",
       "Bangalore     24.237500\n",
       "Chennai       17.372667\n",
       "Coimbatore    26.647611\n",
       "Delhi         20.026725\n",
       "Hyderabad     21.284439\n",
       "Jaipur        14.351923\n",
       "Kochi         21.782488\n",
       "Kolkata       15.505500\n",
       "Mumbai        16.042442\n",
       "Pune          14.505833\n",
       "Name: Price, dtype: float64"
      ]
     },
     "execution_count": 206,
     "metadata": {},
     "output_type": "execute_result"
    }
   ],
   "source": [
    "# For each city, what is the average price of automatic cars?\n",
    "df[(df.Transmission=='Automatic')].groupby(\"Location\").Price.mean()"
   ]
  },
  {
   "cell_type": "code",
   "execution_count": null,
   "id": "8f866b62-3aff-4f90-aaa0-05559cf11a54",
   "metadata": {},
   "outputs": [],
   "source": []
  }
 ],
 "metadata": {
  "kernelspec": {
   "display_name": "Python [conda env:base] *",
   "language": "python",
   "name": "conda-base-py"
  },
  "language_info": {
   "codemirror_mode": {
    "name": "ipython",
    "version": 3
   },
   "file_extension": ".py",
   "mimetype": "text/x-python",
   "name": "python",
   "nbconvert_exporter": "python",
   "pygments_lexer": "ipython3",
   "version": "3.12.7"
  }
 },
 "nbformat": 4,
 "nbformat_minor": 5
}
