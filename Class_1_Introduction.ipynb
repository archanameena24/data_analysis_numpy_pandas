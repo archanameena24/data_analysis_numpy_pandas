{
 "cells": [
  {
   "cell_type": "markdown",
   "id": "602bd018-b201-4573-9a80-06ed1a0b69d6",
   "metadata": {},
   "source": [
    "# Agenda"
   ]
  },
  {
   "cell_type": "code",
   "execution_count": 6,
   "id": "f65b0c9a-b1bb-490d-930d-592ce09839dd",
   "metadata": {},
   "outputs": [],
   "source": [
    "# What is Anaconda distribution?\n",
    "# What is jupyter notebook?\n",
    "# An overview on jupyter notebook.\n",
    "# What is programming language?\n",
    "# Types of programming language.\n",
    "# Translators\n",
    "# How a python program gets excuted\n"
   ]
  },
  {
   "cell_type": "markdown",
   "id": "f9581054-e990-41b5-85ae-54f4fc2a47e6",
   "metadata": {},
   "source": [
    "# Anaconda Distribution"
   ]
  },
  {
   "cell_type": "code",
   "execution_count": 11,
   "id": "f7bdb635-a3d1-4989-9e96-0b21edc21f91",
   "metadata": {},
   "outputs": [],
   "source": [
    "# Data scientist / analyst/ ml/AI Engineer\n",
    "# Core python + data specific libraries\n",
    "\n",
    "\n",
    "# Core pyhton(12-14 topics)\n",
    "# Numpy - Advanced Numerical Computation on large data\n",
    "# Pandas - Data Manipulation\n",
    "# MatpLotLib and seaborn - Data visualisation\n",
    "# SkLearn - Statistical analysis and ML algorithms\n",
    "# .\n",
    "# .\n",
    "# etc.\n"
   ]
  },
  {
   "cell_type": "code",
   "execution_count": 13,
   "id": "4d804417-bf7b-442d-9140-5541fb16708a",
   "metadata": {},
   "outputs": [],
   "source": [
    "# What is Anaconda distribution?\n",
    "# Ans- 1.it is a package(library) distribution platform.\n",
    "# 2.it provides n-number of data related pyhton libraries under one umbrella.\n",
    "# 3.using anaconda we can easily update the existing libraries install new libraries or uninstall any library.\n",
    "# 4.It is open source and we don't have to pay for licence. \n"
   ]
  },
  {
   "cell_type": "markdown",
   "id": "338b33d4-b8e3-451e-af3f-d3bc06b83052",
   "metadata": {},
   "source": [
    "# Jupyter Notebook"
   ]
  },
  {
   "cell_type": "code",
   "execution_count": null,
   "id": "b275d2b6-06ee-41a1-9bab-9b70adc6b978",
   "metadata": {},
   "outputs": [],
   "source": [
    "# 1.It is a browser based IDE .\n",
    "# 2.IDE - integrated Development Environment.\n",
    "# 3.An IDE is an Interface or medium between the programmer or the machine/system.\n",
    "#     ex-jupyter notebook,notepad ,jupyterlab,vs code,spyder etc...\n"
   ]
  },
  {
   "cell_type": "code",
   "execution_count": 18,
   "id": "680adc39-6184-42b8-8328-20af0cec1924",
   "metadata": {},
   "outputs": [
    {
     "name": "stdout",
     "output_type": "stream",
     "text": [
      "11\n"
     ]
    }
   ],
   "source": [
    "print(5+6)"
   ]
  },
  {
   "cell_type": "markdown",
   "id": "a0a1c2c8-f88d-4f96-9550-32bcd15367ca",
   "metadata": {},
   "source": [
    "# Overview Of jupyter Notebook"
   ]
  },
  {
   "cell_type": "code",
   "execution_count": 1,
   "id": "9e5897b2-d88e-4daa-9ba1-061865742544",
   "metadata": {},
   "outputs": [],
   "source": [
    "# 1.-In jupyter notebook we write the code in cells.\n",
    "# 2.-we can write a single line the cell or multiple line in the cell.\n",
    "# 3.-we can excuted the code cell by cell.\n"
   ]
  },
  {
   "cell_type": "code",
   "execution_count": 27,
   "id": "06823c52-719f-4a49-9b8f-4a885e7899d0",
   "metadata": {},
   "outputs": [
    {
     "name": "stdout",
     "output_type": "stream",
     "text": [
      "hello my friends\n",
      "How are you\n",
      "I hope you are doing well\n",
      "thanks\n"
     ]
    }
   ],
   "source": [
    "print (\"hello my friends\")\n",
    "print (\"How are you\")\n",
    "print (\"I hope you are doing well\")\n",
    "print (\"thanks\")"
   ]
  },
  {
   "cell_type": "code",
   "execution_count": 29,
   "id": "a200bb26-35d7-4f94-87c4-51a2223c0e5d",
   "metadata": {},
   "outputs": [
    {
     "name": "stdout",
     "output_type": "stream",
     "text": [
      "30\n",
      "Thanks\n"
     ]
    }
   ],
   "source": [
    "a= 10\n",
    "b= 20\n",
    "c=a+b\n",
    "print(c)\n",
    "print(\"Thanks\")"
   ]
  },
  {
   "cell_type": "code",
   "execution_count": 33,
   "id": "9e8a7c2c-8b4d-42d0-a409-eb8519696f30",
   "metadata": {},
   "outputs": [
    {
     "name": "stdout",
     "output_type": "stream",
     "text": [
      "30\n",
      "Thanks\n"
     ]
    }
   ],
   "source": [
    "a= 10\n",
    "b= 20\n",
    "c=a+b\n",
    "print(c)\n",
    "print(\"Thanks\")"
   ]
  },
  {
   "cell_type": "markdown",
   "id": "de0d174c-c067-463b-bf9c-369ca7a4928a",
   "metadata": {},
   "source": [
    "# Edit And Command Mode"
   ]
  },
  {
   "cell_type": "code",
   "execution_count": 38,
   "id": "2310c2ed-19b5-40fb-bea8-301478fd75d9",
   "metadata": {},
   "outputs": [],
   "source": [
    "# - A cell maybe edit or command mode.\n",
    "# - we can write in a cell when it is in edit mode only.          \n",
    "# - To convert a cell from command mode to edit mode, press enter or click on the cell.\n",
    "\n",
    "# - In Command mode we can select multiple cell\n",
    "# - In command mode we can apply shortcuts keys.\n",
    "\n",
    "# - To convert a cell into command mode we have to press esc key."
   ]
  },
  {
   "cell_type": "markdown",
   "id": "445246f6-2ca8-4f7e-9b99-d56a837fa097",
   "metadata": {},
   "source": [
    "# Code And Markdown"
   ]
  },
  {
   "cell_type": "code",
   "execution_count": null,
   "id": "6b10f9f5-d82e-42fa-aa6f-a767cadd7697",
   "metadata": {},
   "outputs": [],
   "source": [
    "# - A cell can be used as a code editor or text editor\n",
    "\n",
    "\n",
    "# - when a cell is in code mode then we are required to write the python code only.\n",
    "# - if we write anything else in code mode it will throw errors."
   ]
  },
  {
   "cell_type": "code",
   "execution_count": 42,
   "id": "d36dbe76-877d-4b8d-8ccf-fdfabf96c182",
   "metadata": {},
   "outputs": [
    {
     "name": "stdout",
     "output_type": "stream",
     "text": [
      "Hello friends\n"
     ]
    }
   ],
   "source": [
    "print ('Hello friends')"
   ]
  },
  {
   "cell_type": "code",
   "execution_count": 44,
   "id": "7b266c4e-26e3-48c9-a4b2-18d4af1687db",
   "metadata": {},
   "outputs": [
    {
     "name": "stdout",
     "output_type": "stream",
     "text": [
      "Hello friends\n"
     ]
    }
   ],
   "source": [
    "print ('Hello friends')"
   ]
  },
  {
   "cell_type": "markdown",
   "id": "f89ccc9a-a16e-4069-b707-361e87d9791b",
   "metadata": {},
   "source": [
    "# Markdown"
   ]
  },
  {
   "cell_type": "markdown",
   "id": "68dea9fc-47c2-49ed-94ee-2ca446c93228",
   "metadata": {},
   "source": [
    " Hello friends!....."
   ]
  },
  {
   "cell_type": "markdown",
   "id": "b1c87fce-ab0c-46aa-9172-87bc582ea0a9",
   "metadata": {},
   "source": [
    "# python"
   ]
  },
  {
   "cell_type": "markdown",
   "id": "0f38253e-1c53-4f56-aede-439f8a751cf9",
   "metadata": {},
   "source": [
    "## Java"
   ]
  },
  {
   "cell_type": "markdown",
   "id": "ac20e6e2-4350-473c-8e0c-18b3092034a4",
   "metadata": {},
   "source": [
    "#### java"
   ]
  },
  {
   "cell_type": "code",
   "execution_count": null,
   "id": "9298c6e4-e059-466b-9af8-5ed873cb3e05",
   "metadata": {},
   "outputs": [],
   "source": [
    "# - For hading use #..... ex #Python and click markdown\n",
    "# - decreasing size.....##........ex ## java and click markdown\n",
    "# - #### Archana-\n"
   ]
  },
  {
   "cell_type": "markdown",
   "id": "6d5c04ad-be27-4aee-ab91-885ba4148153",
   "metadata": {},
   "source": [
    "###### Archana"
   ]
  },
  {
   "cell_type": "markdown",
   "id": "66175e29-6a54-42fd-b9de-e8980e20dd5f",
   "metadata": {},
   "source": [
    "* Bullet point"
   ]
  },
  {
   "cell_type": "markdown",
   "id": "908e602f-56e2-4806-9f38-d63b5f23063f",
   "metadata": {},
   "source": [
    "- * Bullet point"
   ]
  },
  {
   "cell_type": "markdown",
   "id": "831c9fa4-d0b8-4ae8-87f0-f1e46a54930e",
   "metadata": {},
   "source": [
    " **Bold**"
   ]
  },
  {
   "cell_type": "markdown",
   "id": "3f2ec25e-250b-45f3-9077-4cc8900589e6",
   "metadata": {},
   "source": [
    "*Italic*"
   ]
  },
  {
   "cell_type": "markdown",
   "id": "c3bd13a3-4ea9-4ce4-b63a-ff181ce96154",
   "metadata": {},
   "source": [
    "##### *Italic*"
   ]
  },
  {
   "cell_type": "code",
   "execution_count": null,
   "id": "68e02317-a0f0-4ea2-9040-ccd102a83bf9",
   "metadata": {},
   "outputs": [],
   "source": [
    "# - for bullet point we will use -/* and space and markdown...\n",
    "\n",
    "# - For Bold... **Bold**\n",
    "# - for Italic...*Italic* "
   ]
  },
  {
   "cell_type": "markdown",
   "id": "703e11cf-7ced-474f-b130-ee7f2a6b0979",
   "metadata": {},
   "source": [
    "# Shortcut Keys"
   ]
  },
  {
   "cell_type": "code",
   "execution_count": null,
   "id": "e81afb71-a29e-47d9-a033-98af4bc133a6",
   "metadata": {},
   "outputs": [],
   "source": [
    "# - To execute a cell -> shift+enter\n",
    "# - To add a cell below a perticular cell -> press b in command mode\n",
    "# - To add a cell above a perticular cell -> press a in command mode\n",
    "# - To delete a cell -> press x in command mode\n",
    "# - To undo a cell -> press z in command mode\n",
    "# - To convert a cell into markdown -> press m in command mode\n",
    "# - To convert to code -> press y in command mode\n",
    "# - we can select multiple row at a time by using shift+ -> key in command mode"
   ]
  },
  {
   "cell_type": "markdown",
   "id": "849a1937-7650-438c-886c-2d5a84376d22",
   "metadata": {},
   "source": [
    "hello friends!"
   ]
  },
  {
   "cell_type": "code",
   "execution_count": 91,
   "id": "4427a019-2caa-4841-bf76-9d80346888af",
   "metadata": {},
   "outputs": [
    {
     "name": "stdout",
     "output_type": "stream",
     "text": [
      "Thanks\n"
     ]
    }
   ],
   "source": [
    "print('Thanks')"
   ]
  },
  {
   "cell_type": "code",
   "execution_count": 1,
   "id": "f1a15f1d-d87f-41d5-aa05-6bf3bad89a24",
   "metadata": {},
   "outputs": [
    {
     "name": "stdout",
     "output_type": "stream",
     "text": [
      "Hello\n",
      "30\n"
     ]
    }
   ],
   "source": [
    "print(\"Hello\")\n",
    "a=10\n",
    "b=20\n",
    "c=a+b\n",
    "print(c)"
   ]
  },
  {
   "cell_type": "code",
   "execution_count": 6,
   "id": "387c8bb1-e1bd-4c32-81f8-c3cfddc4fcbe",
   "metadata": {},
   "outputs": [
    {
     "data": {
      "text/plain": [
       "'print(\"Hello\")\\na=10\\nb=20\\nc=a+b\\nprint(c)'"
      ]
     },
     "execution_count": 6,
     "metadata": {},
     "output_type": "execute_result"
    }
   ],
   "source": [
    "In[4]"
   ]
  },
  {
   "cell_type": "markdown",
   "id": "af47bbc5-32ad-4ca6-a906-775c9f46dbce",
   "metadata": {},
   "source": [
    "## Contents"
   ]
  },
  {
   "cell_type": "code",
   "execution_count": null,
   "id": "bc53564d-4d89-4cc5-a942-f64c0aa91b99",
   "metadata": {},
   "outputs": [],
   "source": [
    "# 1- Introduction\n",
    "# 2- Datatypes\n",
    "# 3- Typecasting\n",
    "# 4- Input and Output Functions\n",
    "# 5- Opeartors\n",
    "# 6- String\n",
    "# 7- Conditional Statements\n",
    "# 8- Loops\n",
    "# 9- List\n",
    "# 10- Tuple\n",
    "# 11- Dictionary\n",
    "# 12- Functions\n",
    "# 13- Modules\n",
    "# 14- File Handling\n",
    "# 15- Excepton Handling\n",
    "# 16- Iterators and Generators\n",
    "# 17- Regex\n",
    "\n",
    "# Numpy\n",
    "# Pandas\n",
    "# Matplotlib\n",
    "# Seaborn"
   ]
  }
 ],
 "metadata": {
  "kernelspec": {
   "display_name": "Python [conda env:base] *",
   "language": "python",
   "name": "conda-base-py"
  },
  "language_info": {
   "codemirror_mode": {
    "name": "ipython",
    "version": 3
   },
   "file_extension": ".py",
   "mimetype": "text/x-python",
   "name": "python",
   "nbconvert_exporter": "python",
   "pygments_lexer": "ipython3",
   "version": "3.12.7"
  }
 },
 "nbformat": 4,
 "nbformat_minor": 5
}
